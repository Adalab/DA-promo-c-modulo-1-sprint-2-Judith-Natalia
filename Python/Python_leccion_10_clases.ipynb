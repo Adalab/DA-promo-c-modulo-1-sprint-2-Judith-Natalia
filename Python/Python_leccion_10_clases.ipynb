{
 "cells": [
  {
   "cell_type": "markdown",
   "metadata": {},
   "source": [
    "En este ejercicio de pair programming crearemos una clase. Imaginemos que nuestro jefe nos pide que creemos una clase para tener más ordenada la información sobre cada uno de los empleados de la empresa. Para ello:\n",
    "\n",
    "\n",
    "-Definid una clase que se llame Empleados\n",
    "\n",
    "\n",
    "-Definid los siguientes atributos que caracterizan a nuestros empleados:\n",
    "\n",
    "\n",
    "-nombre\n",
    "-apellido\n",
    "-edad\n",
    "-posición que ocupa en la empresa\n",
    "-año en que entró en la empresa\n",
    "-número de días de vacaciones que tiene\n",
    "\n",
    "\n",
    "-Las herramientas que usa cada uno de ellos, por ejemplo, Outlook, excel y word. Deberá ser una lista.\n",
    "\n",
    "\n",
    "-Cread una instancia para la clase creada\n",
    "  -Definid los siguientes métodos:\n",
    "\n",
    "\n",
    "     -descripción\n",
    "     -calculo_vacaciones\n",
    "     -cambiando_posicion\n",
    "\n",
    "-Tips para definir los métodos:\n",
    "\n",
    "\n",
    "-Método descripcion:\n",
    "\n",
    "    -El return deberá ser un string en el que aparezca el nombre, apellidos, los años que lleva en la empresa y los días de vacaciones que le quedan. Este método deberá devolver algo como esto:\n",
    "\"El/ella, es Lorena, Data Analyst, quien lleva con nostros en la empresa desde 2000. Además este año le quedan 15 dias de vacaciones\"\n",
    "\n",
    "\n",
    "-Método calculo_vacaciones:\n",
    "    -Deberá contener input que nos pregunte cuántos días te quieres ir de vacaciones.\n",
    "    -Luego deberemos restar el número de días que se fue de vacaciones a el número total de vacaciones que tiene ese empleado.\n",
    "\n",
    "\n",
    "-Una condición que chequee si:\n",
    "\n",
    "    -Si el numero de vacaciones que tiene el empleado es igual a 0, devolved un mensaje que diga que se le acabaron las vacaciones\n",
    "\n",
    "    -Si el número de días que se quiere ir de vacaciones es mayor que el número de vacaciones que le quedan, devolved un mensaje que diga que no se puede ir tantos de vacaciones\n",
    "\n",
    "    -En caso de que no se cumplan ninguna de estas condiciones, que nos devuelva el número de vacaciones que le quedan al empleado.\n",
    "\n",
    "-Método cambiando_posicion:\n",
    "\n",
    "\n",
    "    -Iteraremos por la lista de herramientas que usa el empleado:\n",
    "\n",
    "    -Si el empleado usa \"Python\" devolveremos un mensaje de bien hecho!\n",
    "    -Si el empleado usa \"Excel\" le recomendaremos amigablemente que deje excel y empiece a usar Excel"
   ]
  },
  {
   "cell_type": "code",
   "execution_count": 4,
   "metadata": {},
   "outputs": [],
   "source": [
    "class Empleados:\n",
    "    def __init__(self, nombre, apellido, edad, posicion_empresa, año_empresa, dias_vacaciones, herramientas_de_trabajo):\n",
    "        self.nombre = nombre.upper()\n",
    "        self.apellido = apellido\n",
    "        self.edad = edad\n",
    "        self.posicion_empresa = posicion_empresa\n",
    "        self.año_empresa = año_empresa\n",
    "        self.dias_vacaciones = dias_vacaciones\n",
    "        self.herramientas_de_trabajo = [] \n",
    "    def descripcion (self):\n",
    "        return f'El/Ella, es{ self.nombre}{ self.apellido}, es { posicion_empresa} quien lleva con nosotros en la empresa { año_empresa}. Además este año le quedan {self.dias_vacaciones}'"
   ]
  },
  {
   "cell_type": "code",
   "execution_count": 6,
   "metadata": {},
   "outputs": [],
   "source": [
    "def calculo_vacaciones(self):\n",
    "    dias_vacaciones_pedidos = int(input(\"¿Cuantos días te has ido de vacaciones:\"))\n",
    "    if dias_vacaciones == 0:\n",
    "        return f'Se te han acabado los días de vacaciones'\n",
    "    if dias_vacaciones_pedidos > dias_vacaciones:\n",
    "        return 'No tienes tantos días de vacaciones'\n",
    "    \n"
   ]
  },
  {
   "cell_type": "markdown",
   "metadata": {},
   "source": []
  },
  {
   "cell_type": "markdown",
   "metadata": {},
   "source": []
  },
  {
   "cell_type": "markdown",
   "metadata": {},
   "source": []
  }
 ],
 "metadata": {
  "kernelspec": {
   "display_name": "Python 3.10.6 64-bit",
   "language": "python",
   "name": "python3"
  },
  "language_info": {
   "codemirror_mode": {
    "name": "ipython",
    "version": 3
   },
   "file_extension": ".py",
   "mimetype": "text/x-python",
   "name": "python",
   "nbconvert_exporter": "python",
   "pygments_lexer": "ipython3",
   "version": "3.10.6"
  },
  "orig_nbformat": 4,
  "vscode": {
   "interpreter": {
    "hash": "369f2c481f4da34e4445cda3fffd2e751bd1c4d706f27375911949ba6bb62e1c"
   }
  }
 },
 "nbformat": 4,
 "nbformat_minor": 2
}
