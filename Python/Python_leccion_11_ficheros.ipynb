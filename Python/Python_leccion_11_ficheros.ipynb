{
 "cells": [
  {
   "cell_type": "markdown",
   "metadata": {},
   "source": [
    "                                                      CREACIÓN DE CARPETAS Y MOVIMIENTO ENTRE ELLAS\n",
    "\n",
    "                                ---------------------------------- PRIMERA FUNCIÓN -----------------------\n",
    "\n",
    "Esta función debe incluir el código que:\n",
    "Nos muestre en que carpeta estamos trabajando.\n",
    "Cree una carpeta que se llame \"aprendiendo-ficheros\". ⚠️ \n",
    "Tened en cuenta que si la carpeta ya existe no la podemos crear, nos devolverá un error. Incluye en la función un programa que evite que nos de un error si la carpeta ya existe\n",
    "- Cree otra carpeta que se llame \"datos\" dentro de la carpeta \"aprendiendo-ficheros\". En esta carpeta \"datos\" guardaremos el fichero \"saludo.txt\" que os habéis descargado.\n",
    "- Cambiad el directorio de trabajo a la carpeta \"datos\". Antes de seguir chequead que estáis trabajando en la carpeta \"datos\".\n",
    "- Cambiad el nombre de la carpeta creada en el punto 2 a \"primera-toma-contacto\"\n",
    "\n",
    "💡 Pistas para resolver este ejercicio 💡 Esta función debe incluir el código que:\n",
    "\n",
    "2. La función tendrá que recibir 3 parámetros:\n",
    "\n",
    "3. El nombre del nombre de la primera carpeta\n",
    "\n",
    "4. El nombre de la carpeta segunda carpeta\n",
    "\n",
    "5. El nombre con el que queramos cambiar el nombre de la primera carpeta creada\n",
    "\n",
    "6. Para saber si las carpetas ya existen tendréis que usar lstdir(recordad que nos devuelve una lista de ficheros y carpetas).\n",
    "\n",
    "7. Para poder controlar los errores tendremos que usar un if loop, que si el fichero existe, nos devuelva un mensaje de que el fichero ya existe. En caso de que no exista, los deberéis crear y que la función nos muestre un mensaje de que se ha creado. Tendréis que ir cambiando de directorio para poder crear las carpetas y cambiar sus nombres."
   ]
  },
  {
   "cell_type": "code",
   "execution_count": 154,
   "metadata": {},
   "outputs": [
    {
     "name": "stdout",
     "output_type": "stream",
     "text": [
      "/Users/ju/Documents/Adalab/DA-promo-c-modulo-1-sprint-2-Judith-Natalia/DA-promo-c-modulo-1-sprint-2-Judith-Natalia/Python/primera_toma_contacto/datos\n",
      "['aprendiendo_ficheros', 'datos', 'saludo.txt']\n"
     ]
    }
   ],
   "source": [
    "import os\n",
    "\n",
    "nombre_archivo = 'mi_carpeta_nombrada'\n",
    "\n",
    "mi_directorio_absoluto = os.getcwd()\n",
    "print(mi_directorio_absoluto)\n",
    "print(os.listdir())\n"
   ]
  },
  {
   "cell_type": "code",
   "execution_count": 155,
   "metadata": {},
   "outputs": [],
   "source": [
    "def gestion_ficheros (aprendiendo_ficheros,datos, primera_toma_contacto):\n",
    "    import os \n",
    "    mi_directorio_absoluto = os.getcwd()\n",
    "    print(mi_directorio_absoluto)  #Ruta que es un string. Necesito acceder a la ruta para conocer carpetas y ficheros tengo dentro.\n",
    "    print(os.listdir())\n",
    "    list_childs = os.listdir()   #Crear una lista del contenido de la ruta.\n",
    "    if aprendiendo_ficheros not in list_childs:\n",
    "        os.mkdir(aprendiendo_ficheros)\n",
    "        print(f'Se ha creado el diectorio {aprendiendo_ficheros} con éxito')\n",
    "    else:\n",
    "        print(f'El directorio {aprendiendo_ficheros} ya existe')\n",
    "        pass \n",
    "    if datos not in list_childs:\n",
    "        os.mkdir('datos')\n",
    "        print(f'Se ha creado el diectorio {datos} con éxito')\n",
    "    else:   \n",
    "        print(f'El directorio {datos} ya existe')\n",
    "        pass\n",
    "\n",
    "    return \n",
    "    "
   ]
  },
  {
   "cell_type": "code",
   "execution_count": 156,
   "metadata": {},
   "outputs": [],
   "source": [
    "aprendiendo_ficheros= 'aprendiendo_ficheros'\n",
    "datos = 'datos'\n",
    "primera_toma_contacto = 'primera_toma_contacto'"
   ]
  },
  {
   "cell_type": "code",
   "execution_count": 157,
   "metadata": {},
   "outputs": [
    {
     "name": "stdout",
     "output_type": "stream",
     "text": [
      "/Users/ju/Documents/Adalab/DA-promo-c-modulo-1-sprint-2-Judith-Natalia/DA-promo-c-modulo-1-sprint-2-Judith-Natalia/Python/primera_toma_contacto/datos\n",
      "['aprendiendo_ficheros', 'datos', 'saludo.txt']\n",
      "El directorio aprendiendo_ficheros ya existe\n",
      "El directorio datos ya existe\n"
     ]
    }
   ],
   "source": [
    "gestion_ficheros(aprendiendo_ficheros,datos,primera_toma_contacto )"
   ]
  },
  {
   "cell_type": "code",
   "execution_count": 158,
   "metadata": {},
   "outputs": [
    {
     "data": {
      "text/plain": [
       "'/Users/ju/Documents/Adalab/DA-promo-c-modulo-1-sprint-2-Judith-Natalia/DA-promo-c-modulo-1-sprint-2-Judith-Natalia/Python/primera_toma_contacto/datos'"
      ]
     },
     "execution_count": 158,
     "metadata": {},
     "output_type": "execute_result"
    }
   ],
   "source": [
    "os.getcwd()"
   ]
  },
  {
   "cell_type": "code",
   "execution_count": 86,
   "metadata": {},
   "outputs": [
    {
     "data": {
      "text/plain": [
       "'/Users/ju/Documents/Adalab/DA-promo-c-modulo-1-sprint-2-Judith-Natalia/DA-promo-c-modulo-1-sprint-2-Judith-Natalia/Python/primera_toma_contacto/datos'"
      ]
     },
     "execution_count": 86,
     "metadata": {},
     "output_type": "execute_result"
    }
   ],
   "source": [
    "directorio_ejercicio = os.getcwd()\n",
    "directorio_ejercicio"
   ]
  },
  {
   "cell_type": "code",
   "execution_count": null,
   "metadata": {},
   "outputs": [],
   "source": [
    "os.mkdir('aprendiendo_ficheros')\n",
    "print(os.listdir())"
   ]
  },
  {
   "cell_type": "code",
   "execution_count": null,
   "metadata": {},
   "outputs": [],
   "source": [
    "os.chdir('aprendiendo_ficheros')\n",
    "os.getcwd()"
   ]
  },
  {
   "cell_type": "code",
   "execution_count": null,
   "metadata": {},
   "outputs": [],
   "source": [
    "os.mkdir('datos')\n",
    "print(os.listdir())"
   ]
  },
  {
   "cell_type": "code",
   "execution_count": null,
   "metadata": {},
   "outputs": [],
   "source": [
    "os.chdir('datos')\n",
    "os.getcwd()"
   ]
  },
  {
   "cell_type": "code",
   "execution_count": null,
   "metadata": {},
   "outputs": [],
   "source": [
    "os.rename('aprendiendo_ficheros','primera_toma_contacto')\n",
    "print(os.listdir())"
   ]
  },
  {
   "cell_type": "markdown",
   "metadata": {},
   "source": [
    "                                    ---------------------------------- SEGUNDA FUNCIÓN -----------------------\n",
    "\n",
    "📌 Antes de empezar, recordad descargaros el fichero saludo.txt y guardarlo en el repo en el que estáis trabajando, dentro de una carpeta que se llame \"datos\".\n",
    "                                    Lea el fichero que se llame \"saludo.txt y muestre su contenido completo.\n",
    "                                                            Muestra la línea 4 del fichero\n",
    "\n",
    "💡 Pistas para resolver este ejercicio 💡\n",
    "\n",
    "Antes de empezar, tendréis que saber cuál es vuestro directorio de trabajo.\n",
    "Tened en cuenta en que carpeta estáis. Si vuestro directorio de trabajo no es \"datos\" tendréis que cambiarlo o poner la ruta relativa a la carpeta \"datos\".\n",
    "Usar if... else para evitar que se nos pare el código.\n",
    "Para cambiar el fichero podréis usar el comando input para preguntar el usuario donde está el fichero y que se pueda usar la ruta relativa o absoluta.\n",
    "\n"
   ]
  },
  {
   "cell_type": "code",
   "execution_count": 159,
   "metadata": {},
   "outputs": [],
   "source": [
    "import os"
   ]
  },
  {
   "cell_type": "code",
   "execution_count": 160,
   "metadata": {},
   "outputs": [
    {
     "data": {
      "text/plain": [
       "'/Users/ju/Documents/Adalab/DA-promo-c-modulo-1-sprint-2-Judith-Natalia/DA-promo-c-modulo-1-sprint-2-Judith-Natalia/Python/primera_toma_contacto/datos'"
      ]
     },
     "execution_count": 160,
     "metadata": {},
     "output_type": "execute_result"
    }
   ],
   "source": [
    "mi_directorio_absoluto = os.getcwd()\n",
    "mi_directorio_absoluto"
   ]
  },
  {
   "cell_type": "code",
   "execution_count": 163,
   "metadata": {},
   "outputs": [],
   "source": [
    "def leer_archivo():\n",
    "    mi_directorio_absoluto = os.getcwd()\n",
    "    print(mi_directorio_absoluto) \n",
    "    #print(os.listdir())\n",
    "    list_childs = os.listdir()\n",
    "    if 'datos' in list_childs:\n",
    "        #print('entro en datos existe')\n",
    "        pass\n",
    "    else:\n",
    "        print('Datos no existe')\n",
    "        mi_directorio_absoluto = input('Indica donde esta el fichero y la ruta relativa o absoluta donde se encuentra')\n",
    "        os.chdir(mi_directorio_absoluto)\n",
    "    with open('saludo.txt', 'r') as f:\n",
    "        #print('encuentro texto saludo') \n",
    "        lineas_archivo = f.readlines()\n",
    "        print(lineas_archivo[4])\n",
    "    return \n",
    "       "
   ]
  },
  {
   "cell_type": "code",
   "execution_count": 164,
   "metadata": {},
   "outputs": [
    {
     "name": "stdout",
     "output_type": "stream",
     "text": [
      "/Users/ju/Documents/Adalab/DA-promo-c-modulo-1-sprint-2-Judith-Natalia/DA-promo-c-modulo-1-sprint-2-Judith-Natalia/Python/primera_toma_contacto/datos\n",
      "Esto esta siendo suuuper divertidooooo\n"
     ]
    }
   ],
   "source": [
    "leer_archivo()"
   ]
  },
  {
   "cell_type": "markdown",
   "metadata": {},
   "source": [
    "\n",
    "                                                                LECTURA Y ESCRITURA DE FICHEROS \n",
    "\n",
    "1. La función debe recibir 4 parámetros:\n",
    "\n",
    "- Nombre del fichero, incluyendo la extensión.\n",
    "- Como queremos leer el fichero.\n",
    "- El encoding del fichero.\n",
    "- El contenido que queremos escribir en el fichero.\n",
    "\n",
    "2. Condiciones de la función:\n",
    "- Si el fichero no existe, debe crearlo, insertar contenido y mostrar su contenido.\n",
    "- Si el fichero existe pregunta al usuario si quiere sobreescribirlo. En caso de Si, sobreescribe el fichero, insertad contenido y leedlo. En caso de No, no hace nada.\n",
    "\n",
    "💡 Pistas 💡\n",
    "Para chequear si un fichero existe, podemos usar la función os.listdir() que devuelve una lista con los nombres de los ficheros que hay en un directorio.\n",
    "Para crear un fichero, podemos usar la función open() que recibe como parámetros el nombre del fichero, el modo de apertura y el encoding.\n",
    "Para chequear si el fichero existe debéis usar los for loops y el método in para comprobar si el nombre del fichero está en la lista de ficheros.\n",
    "Usar un input para preguntar al usuario si quiere sobreescribir el fichero.\n",
    "Para sobreescribir el fichero, podemos usar la función open() que recibe como parámetros el nombre del fichero, el modo de apertura y el encoding.\n",
    "Strings que cubren más que una línea tienen que ser iniciados y cerrados con tres comillas \"\"\"."
   ]
  },
  {
   "cell_type": "code",
   "execution_count": null,
   "metadata": {},
   "outputs": [],
   "source": []
  }
 ],
 "metadata": {
  "kernelspec": {
   "display_name": "Python 3.10.8 64-bit",
   "language": "python",
   "name": "python3"
  },
  "language_info": {
   "codemirror_mode": {
    "name": "ipython",
    "version": 3
   },
   "file_extension": ".py",
   "mimetype": "text/x-python",
   "name": "python",
   "nbconvert_exporter": "python",
   "pygments_lexer": "ipython3",
   "version": "3.10.8"
  },
  "orig_nbformat": 4,
  "vscode": {
   "interpreter": {
    "hash": "aee8b7b246df8f9039afb4144a1f6fd8d2ca17a180786b69acc140d282b71a49"
   }
  }
 },
 "nbformat": 4,
 "nbformat_minor": 2
}
