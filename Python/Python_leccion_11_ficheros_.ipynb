{
 "cells": [
  {
   "cell_type": "markdown",
   "metadata": {},
   "source": [
    "                                                      CREACIÓN DE CARPETAS Y MOVIMIENTO ENTRE ELLAS\n",
    "\n",
    "                                ---------------------------------- PRIMERA FUNCIÓN -----------------------\n",
    "\n",
    "Esta función debe incluir el código que:\n",
    "Nos muestre en que carpeta estamos trabajando.\n",
    "Cree una carpeta que se llame \"aprendiendo-ficheros\". ⚠️ \n",
    "Tened en cuenta que si la carpeta ya existe no la podemos crear, nos devolverá un error. Incluye en la función un programa que evite que nos de un error si la carpeta ya existe\n",
    "- Cree otra carpeta que se llame \"datos\" dentro de la carpeta \"aprendiendo-ficheros\". En esta carpeta \"datos\" guardaremos el fichero \"saludo.txt\" que os habéis descargado.\n",
    "- Cambiad el directorio de trabajo a la carpeta \"datos\". Antes de seguir chequead que estáis trabajando en la carpeta \"datos\".\n",
    "- Cambiad el nombre de la carpeta creada en el punto 2 a \"primera-toma-contacto\"\n",
    "\n",
    "💡 Pistas para resolver este ejercicio 💡 Esta función debe incluir el código que:\n",
    "\n",
    "2. La función tendrá que recibir 3 parámetros:\n",
    "\n",
    "3. El nombre del nombre de la primera carpeta\n",
    "\n",
    "4. El nombre de la carpeta segunda carpeta\n",
    "\n",
    "5. El nombre con el que queramos cambiar el nombre de la primera carpeta creada\n",
    "\n",
    "6. Para saber si las carpetas ya existen tendréis que usar lstdir(recordad que nos devuelve una lista de ficheros y carpetas).\n",
    "\n",
    "7. Para poder controlar los errores tendremos que usar un if loop, que si el fichero existe, nos devuelva un mensaje de que el fichero ya existe. En caso de que no exista, los deberéis crear y que la función nos muestre un mensaje de que se ha creado. Tendréis que ir cambiando de directorio para poder crear las carpetas y cambiar sus nombres."
   ]
  },
  {
   "cell_type": "code",
   "execution_count": 26,
   "metadata": {},
   "outputs": [],
   "source": [
    "import os "
   ]
  },
  {
   "cell_type": "code",
   "execution_count": 27,
   "metadata": {},
   "outputs": [],
   "source": [
    "from os import getcwd\n"
   ]
  },
  {
   "cell_type": "code",
   "execution_count": 3,
   "metadata": {},
   "outputs": [
    {
     "data": {
      "text/plain": [
       "'/Users/ju/Documents/Adalab/DA-promo-c-modulo-1-sprint-2-Judith-Natalia/DA-promo-c-modulo-1-sprint-2-Judith-Natalia/Python'"
      ]
     },
     "execution_count": 3,
     "metadata": {},
     "output_type": "execute_result"
    }
   ],
   "source": [
    "os.getcwd()"
   ]
  },
  {
   "cell_type": "code",
   "execution_count": 56,
   "metadata": {},
   "outputs": [],
   "source": [
    "def gestion_ficheros (carp1,carp2, carp_renombrada3):\n",
    "    import os\n",
    "    mi_directorio_absoluto = os.getcwd()\n",
    "    print(mi_directorio_absoluto)  #Ruta que es un string. Necesito acceder a la ruta para conocer carpetas y ficheros tengo dentro.\n",
    "    #print(os.listdir())\n",
    "    list_childs = os.listdir()   #Crear una lista del contenido de la ruta.\n",
    "    \n",
    "    if carp1 not in list_childs:\n",
    "        os.mkdir(carp1)\n",
    "        print(f'Se ha creado la carpeta {carp1} se ha creado con éxito')\n",
    "    else:\n",
    "        print(f'La carpeta {carp1} ya existe')\n",
    "        \n",
    "    os.chdir(mi_directorio_absoluto+\"/\"+carp1)\n",
    "    list_childs = os.listdir()\n",
    "    \n",
    "    if carp2 not in list_childs:\n",
    "        os.mkdir(carp2)\n",
    "        print(f'Se ha creado la carpeta {carp2} con éxito')\n",
    "    else:   \n",
    "        print(f'La carpeta {carp2} ya existe')\n",
    "        \n",
    "        os.chdir(mi_directorio_absoluto+\"/\"+carp1+\"/\"+carp2)\n",
    "        print(os.getcwd()) \n",
    "    os.chdir(mi_directorio_absoluto)\n",
    "    os.rename(carp1, carp_renombrada3)\n",
    "    mi_directorio_absoluto = os.getcwd()\n",
    "\n",
    "    return\n"
   ]
  },
  {
   "cell_type": "code",
   "execution_count": 57,
   "metadata": {},
   "outputs": [
    {
     "name": "stdout",
     "output_type": "stream",
     "text": [
      "/Users/ju/Documents/Adalab/DA-promo-c-modulo-1-sprint-2-Judith-Natalia/DA-promo-c-modulo-1-sprint-2-Judith-Natalia/Python\n",
      "La carpeta aprendiendo_ficheros ya existe\n",
      "La carpeta datos ya existe\n",
      "/Users/ju/Documents/Adalab/DA-promo-c-modulo-1-sprint-2-Judith-Natalia/DA-promo-c-modulo-1-sprint-2-Judith-Natalia/Python/aprendiendo_ficheros/datos\n"
     ]
    }
   ],
   "source": [
    "gestion_ficheros('aprendiendo_ficheros','datos','primera_toma_contacto' )"
   ]
  },
  {
   "cell_type": "markdown",
   "metadata": {},
   "source": [
    "                                    ---------------------------------- SEGUNDA FUNCIÓN -----------------------\n",
    "\n",
    "📌 Antes de empezar, recordad descargaros el fichero saludo.txt y guardarlo en el repo en el que estáis trabajando, dentro de una carpeta que se llame \"datos\".\n",
    "                                    Lea el fichero que se llame \"saludo.txt y muestre su contenido completo.\n",
    "                                                            Muestra la línea 4 del fichero\n",
    "\n",
    "💡 Pistas para resolver este ejercicio 💡\n",
    "\n",
    "Antes de empezar, tendréis que saber cuál es vuestro directorio de trabajo.\n",
    "Tened en cuenta en que carpeta estáis. Si vuestro directorio de trabajo no es \"datos\" tendréis que cambiarlo o poner la ruta relativa a la carpeta \"datos\".\n",
    "Usar if... else para evitar que se nos pare el código.\n",
    "Para cambiar el fichero podréis usar el comando input para preguntar el usuario donde está el fichero y que se pueda usar la ruta relativa o absoluta.\n",
    "\n"
   ]
  },
  {
   "cell_type": "code",
   "execution_count": 124,
   "metadata": {},
   "outputs": [],
   "source": [
    "mi_directorio_absoluto = os.getcwd()\n",
    "mi_directorio_absoluto_string = '/Users/ju/Documents/Adalab/DA-promo-c-modulo-1-sprint-2-Judith-Natalia/DA-promo-c-modulo-1-sprint-2-Judith-Natalia/Python' "
   ]
  },
  {
   "cell_type": "code",
   "execution_count": 125,
   "metadata": {},
   "outputs": [
    {
     "data": {
      "text/plain": [
       "'/Users/ju/Documents/Adalab/DA-promo-c-modulo-1-sprint-2-Judith-Natalia/DA-promo-c-modulo-1-sprint-2-Judith-Natalia/Python'"
      ]
     },
     "execution_count": 125,
     "metadata": {},
     "output_type": "execute_result"
    }
   ],
   "source": [
    "mi_directorio_absoluto_string #Fijamos el absoluto para que siempre partamos de la misma ruta"
   ]
  },
  {
   "cell_type": "code",
   "execution_count": 142,
   "metadata": {},
   "outputs": [],
   "source": [
    "def leer_archivo(archivo_saludo):\n",
    "    import os\n",
    "    mi_directorio_absoluto = os.getcwd()\n",
    "    print(mi_directorio_absoluto)\n",
    "    while archivo_saludo not in os.listdir():\n",
    "        localizacion = input('Cual es la ruta del archivo que quieres leer')\n",
    "        print(localizacion)\n",
    "        print(os.listdir())\n",
    "        mi_directorio_absoluto = localizacion\n",
    "        os.chdir(mi_directorio_absoluto)\n",
    "    #La nueva ruta sera la original mas la carpeta datos.\n",
    "    with open( archivo_saludo, 'r') as f:\n",
    "        saludo_lista = f.readlines()\n",
    "        print(f\"Este es el fichero completo: {saludo_lista}\")\n",
    "        print (f\"Esta es la linea 4 del fichero: {saludo_lista[3]}\")\n",
    "\n",
    "    return "
   ]
  },
  {
   "cell_type": "code",
   "execution_count": 143,
   "metadata": {},
   "outputs": [
    {
     "name": "stdout",
     "output_type": "stream",
     "text": [
      "/Users/ju/Documents/Adalab/DA-promo-c-modulo-1-sprint-2-Judith-Natalia/DA-promo-c-modulo-1-sprint-2-Judith-Natalia/Python/primera_toma_contacto/datos\n",
      "Este es el fichero completo: ['Hola Adalabers!!!\\n', '\\n', 'Estamos en la sesión de pair-programming para familiarizarnos con la gestión de carpetas y ficheros desde Python 🙂🌊\\n', '\\n', 'Esto esta siendo suuuper divertidooooo']\n",
      "Esta es la linea 4 del fichero: \n",
      "\n"
     ]
    }
   ],
   "source": [
    "leer_archivo('saludo.txt')"
   ]
  },
  {
   "cell_type": "markdown",
   "metadata": {},
   "source": [
    "\n",
    "                                                                LECTURA Y ESCRITURA DE FICHEROS \n",
    "\n",
    "1. La función debe recibir 4 parámetros:\n",
    "\n",
    "- Nombre del fichero, incluyendo la extensión.\n",
    "- Como queremos leer el fichero.\n",
    "- El encoding del fichero.\n",
    "- El contenido que queremos escribir en el fichero.\n",
    "\n",
    "2. Condiciones de la función:\n",
    "- Si el fichero no existe, debe crearlo, insertar contenido y mostrar su contenido.\n",
    "- Si el fichero existe pregunta al usuario si quiere sobreescribirlo. En caso de Si, sobreescribe el fichero, insertad contenido y leedlo. En caso de No, no hace nada.\n",
    "\n",
    "💡 Pistas 💡\n",
    "Para chequear si un fichero existe, podemos usar la función os.listdir() que devuelve una lista con los nombres de los ficheros que hay en un directorio.\n",
    "Para crear un fichero, podemos usar la función open() que recibe como parámetros el nombre del fichero, el modo de apertura y el encoding.\n",
    "Para chequear si el fichero existe debéis usar los for loops y el método in para comprobar si el nombre del fichero está en la lista de ficheros.\n",
    "Usar un input para preguntar al usuario si quiere sobreescribir el fichero.\n",
    "Para sobreescribir el fichero, podemos usar la función open() que recibe como parámetros el nombre del fichero, el modo de apertura y el encoding.\n",
    "Strings que cubren más que una línea tienen que ser iniciados y cerrados con tres comillas \"\"\"."
   ]
  },
  {
   "cell_type": "code",
   "execution_count": null,
   "metadata": {},
   "outputs": [],
   "source": []
  }
 ],
 "metadata": {
  "kernelspec": {
   "display_name": "Python 3.10.8 64-bit",
   "language": "python",
   "name": "python3"
  },
  "language_info": {
   "codemirror_mode": {
    "name": "ipython",
    "version": 3
   },
   "file_extension": ".py",
   "mimetype": "text/x-python",
   "name": "python",
   "nbconvert_exporter": "python",
   "pygments_lexer": "ipython3",
   "version": "3.10.8"
  },
  "orig_nbformat": 4,
  "vscode": {
   "interpreter": {
    "hash": "aee8b7b246df8f9039afb4144a1f6fd8d2ca17a180786b69acc140d282b71a49"
   }
  }
 },
 "nbformat": 4,
 "nbformat_minor": 2
}
