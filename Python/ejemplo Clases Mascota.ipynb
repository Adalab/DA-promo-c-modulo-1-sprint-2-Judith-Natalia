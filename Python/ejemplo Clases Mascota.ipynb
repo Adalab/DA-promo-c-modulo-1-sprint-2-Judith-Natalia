{
 "cells": [
  {
   "cell_type": "code",
   "execution_count": null,
   "metadata": {},
   "outputs": [],
   "source": [
    "# 1️⃣ Creamos nuestra clase, que llamaremos Mascota.\n",
    "# iniciamos nuestra primera clase usando la palabra clave \"class\"\n",
    "\n",
    "\n",
    "class Mascota:\n",
    "    pass"
   ]
  },
  {
   "cell_type": "code",
   "execution_count": null,
   "metadata": {},
   "outputs": [],
   "source": [
    "# llamamos a la clase y la almacenamos en una variable \n",
    "felix = Mascota()\n",
    "felix"
   ]
  },
  {
   "cell_type": "code",
   "execution_count": null,
   "metadata": {},
   "outputs": [],
   "source": [
    "# 2️⃣ Debemos pensar en que propiedades (lo que serán los atributos que definan a una mascota en concreto) estamos interesados. Todos las propiedades o atributos en los que estamos interesados deben estar definidos en un método llamado `constructor`\n",
    "\n",
    "class Mascota:\n",
    "\n",
    "    # podemos entender el constructor como los parámetros de las funciones. Es decir, ¿qué parámetros van a ser los que determinen las carácteristicas de nuestra mascota?\n",
    "    def __init__(self, animal, edad, raza):\n",
    "\n",
    "        # lo primero que querremos definir es que tipo de animal es. \n",
    "        self.animal = animal\n",
    "\n",
    "        # qué edad tiene\n",
    "        self.edad = edad\n",
    "\n",
    "        # y cuál es su raza\n",
    "        self.raza = raza\n",
    "\n",
    "        # al igual que en las funciones podíamos utilizar parámetros por defecto, en el caso de las clases también lo podemos hacer, como lo hacemos en la siguiente línea de código. \n",
    "        self.hogar = 'domicilio'\n"
   ]
  },
  {
   "cell_type": "code",
   "execution_count": null,
   "metadata": {},
   "outputs": [],
   "source": [
    "# 3️⃣ Instanciar un objeto, es decir, crear un nuevo objeto de la clase Mascota.\n",
    "# volvemos a llamar a nuestra clase. Para eso, al igual que en las funciones, lo que tenemos que hacer es llamar a nuestra clase y entre paréntesis indicar los parámetros, es decir, las variables que pusimos en el constructor. \n",
    "# en este caso, nuestra mascota será un gato\n",
    "\n",
    "felix = Mascota('gato', 1, \"gato común\")"
   ]
  },
  {
   "cell_type": "code",
   "execution_count": null,
   "metadata": {},
   "outputs": [],
   "source": [
    "# ¿Qué tipo de animal es nuestra mascota? \n",
    "\n",
    "felix.animal"
   ]
  },
  {
   "cell_type": "code",
   "execution_count": null,
   "metadata": {},
   "outputs": [],
   "source": [
    "# a nuestro gato le pusimos que tenía un año de eddad, pero nos hemos equivocado, y en realidad tiene 2. Para cambiarlo tendremos que hacer 👇🏽\n",
    "\n",
    "felix.edad = 2"
   ]
  },
  {
   "cell_type": "code",
   "execution_count": null,
   "metadata": {},
   "outputs": [],
   "source": [
    "# 4️⃣ definimos nuestro primer método\n",
    "\n",
    "class Mascota:\n",
    "\n",
    "    # podemos entender el constructor como los parámetros de las funciones. Es decir, ¿qué parámetros van a ser los que determinen las carácteristicas de nuestra mascota?\n",
    "    def __init__(self, animal, edad, raza):\n",
    "\n",
    "        # lo primero que querremos definir es que tipo de animal es. \n",
    "        self.animal = animal\n",
    "\n",
    "        # qué edad tiene\n",
    "        self.edad = edad\n",
    "\n",
    "        # y cuál es su raza\n",
    "        self.raza = raza\n",
    "\n",
    "        # al igual que en las funciones podíamos utilizar parámetros por defecto, en el caso de las clases también lo podemos hacer, como lo hacemos en la siguiente línea de código. \n",
    "        self.hogar = 'domicilio'\n",
    "\n",
    "    # definimos nuestro primer método\n",
    "    def cumple(self):\n",
    "        self.edad += 1\n",
    "        return f'la edad de nuestra mascota es de {self.edad}'\n",
    "\n",
    "    # definimos el segundo método. En este caso intentaremos clasificar a las mascotas en función de su edad. \n",
    "    def rango_edad(self):\n",
    "        if self.edad < 2:\n",
    "            return 'junior'\n",
    "        elif self.edad > 10:\n",
    "            return 'senior'\n",
    "        else:\n",
    "            return 'adulto'\n",
    "\n",
    "    # el último método que definiremos será el de la vacunación. \n",
    "    def vacunas(self, numero_vacunas):\n",
    "\n",
    "        self.numero_vacunas = numero_vacunas\n",
    "        \n",
    "        if self.animal == \"gato\":\n",
    "            if numero_vacunas < 3:\n",
    "                return \"deberías ponerle todas las vacunas\"\n",
    "            else:\n",
    "                return \"Tu gatito esta seguro\"\n",
    "\n",
    "        elif self.animal == \"perro\":\n",
    "            if numero_vacunas < 5:\n",
    "                return \"deberías ponerle todas las vacunas\"\n",
    "            else:\n",
    "                return \"tu perrete esta seguro\"\n",
    "\n",
    "        elif self.animal == \"pez\":\n",
    "            return \"Tu mascota no necesita vacunas\"\n",
    "            \n",
    "        else:\n",
    "            return \"todavía no sabemos cuantas vacunas necesita tu mascota\"\n"
   ]
  },
  {
   "cell_type": "code",
   "execution_count": null,
   "metadata": {},
   "outputs": [],
   "source": [
    "# Para ver nuestra clase y sus atributos sin volver a buscar el codigo:\n",
    "felix.__dict__\n"
   ]
  },
  {
   "cell_type": "code",
   "execution_count": null,
   "metadata": {},
   "outputs": [],
   "source": [
    "# Crear una nueva instancia\n",
    "pez = Mascota(\"pez\", 6, \"pez payaso\")"
   ]
  },
  {
   "cell_type": "markdown",
   "metadata": {},
   "source": [
    "#CLASES HEREDADAS\n",
    "\n",
    "\n",
    "```python\n",
    "class NUEVA_CLASE(CLASE DE LA QUE HEREDA):\n",
    "    # pasan cosas que vamos a ver ahora\n",
    "``` "
   ]
  },
  {
   "cell_type": "code",
   "execution_count": null,
   "metadata": {},
   "outputs": [],
   "source": [
    "# creamos una nueva clase que hereda de Mascota\n",
    "class Perros (Mascota):\n",
    "    pass"
   ]
  },
  {
   "cell_type": "code",
   "execution_count": null,
   "metadata": {},
   "outputs": [],
   "source": [
    "# LAMAMAMOS A NUESTRA CLASE HIJA PASANDO LOS ATRIBUTOS \n",
    "perro = Perros(\"perro\", 15, \"coli\")"
   ]
  },
  {
   "cell_type": "code",
   "execution_count": null,
   "metadata": {},
   "outputs": [],
   "source": [
    "# CREANDO METODO EN CLASE HIJA, SUBCLASE, CHILD\n",
    "class Perros(Mascota):\n",
    "\n",
    "    # creamos el constructor con el super()\n",
    "    def __init__(self, animal, edad, raza):\n",
    "        super().__init__(animal, edad, raza)\n",
    "\n",
    "    # creamos el nuevo método al que llamaremos pasear\n",
    "\n",
    "    def pasear(self, optimo_paseos = 5): \n",
    "\n",
    "        num_paseos = int(input(\"Cuántos paseos le das a tu perro?\"))\n",
    "        print(f\"Sacas {num_paseos} veces a tu perrete\")\n",
    "\n",
    "        if num_paseos < optimo_paseos:\n",
    "            return \"Saca al perrete!!!!\"\n",
    "        else:\n",
    "            return \"Que bien! Tu perrete sale mucho a la calle a correr! 🙂\"\n",
    " \n",
    "\n",
    "\n",
    "    "
   ]
  },
  {
   "cell_type": "code",
   "execution_count": null,
   "metadata": {},
   "outputs": [],
   "source": [
    "# ver la info de la clase\n",
    "print(help(Perros))"
   ]
  },
  {
   "cell_type": "code",
   "execution_count": null,
   "metadata": {},
   "outputs": [],
   "source": [
    "print(help(Mascota))"
   ]
  }
 ],
 "metadata": {
  "kernelspec": {
   "display_name": "Python 3.10.6 64-bit",
   "language": "python",
   "name": "python3"
  },
  "language_info": {
   "name": "python",
   "version": "3.10.6"
  },
  "orig_nbformat": 4,
  "vscode": {
   "interpreter": {
    "hash": "369f2c481f4da34e4445cda3fffd2e751bd1c4d706f27375911949ba6bb62e1c"
   }
  }
 },
 "nbformat": 4,
 "nbformat_minor": 2
}
