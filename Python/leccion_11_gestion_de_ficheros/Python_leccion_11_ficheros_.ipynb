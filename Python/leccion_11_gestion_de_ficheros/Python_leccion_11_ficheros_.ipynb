{
 "cells": [
  {
   "cell_type": "markdown",
   "metadata": {},
   "source": [
    "                                        CREACIÓN DE CARPETAS Y MOVIMIENTO ENTRE ELLAS\n",
    "\n",
    "                    ---------------------------------- PRIMERA FUNCIÓN ------------------------------------\n",
    "\n",
    "Esta función debe incluir el código que:\n",
    "Nos muestre en que carpeta estamos trabajando.\n",
    "Cree una carpeta que se llame \"aprendiendo-ficheros\". ⚠️ \n",
    "Tened en cuenta que si la carpeta ya existe no la podemos crear, nos devolverá un error. Incluye en la función un programa que evite que nos de un error si la carpeta ya existe\n",
    "- Cree otra carpeta que se llame \"datos\" dentro de la carpeta \"aprendiendo-ficheros\". En esta carpeta \"datos\" guardaremos el fichero \"saludo.txt\" que os habéis descargado.\n",
    "- Cambiad el directorio de trabajo a la carpeta \"datos\". Antes de seguir chequead que estáis trabajando en la carpeta \"datos\".\n",
    "- Cambiad el nombre de la carpeta creada en el punto 2 a \"primera-toma-contacto\"\n",
    "\n",
    "💡 Pistas para resolver este ejercicio 💡 Esta función debe incluir el código que:\n",
    "\n",
    "2. La función tendrá que recibir 3 parámetros:\n",
    "\n",
    "3. El nombre del nombre de la primera carpeta\n",
    "\n",
    "4. El nombre de la carpeta segunda carpeta\n",
    "\n",
    "5. El nombre con el que queramos cambiar el nombre de la primera carpeta creada\n",
    "\n",
    "6. Para saber si las carpetas ya existen tendréis que usar lstdir(recordad que nos devuelve una lista de ficheros y carpetas).\n",
    "\n",
    "7. Para poder controlar los errores tendremos que usar un if loop, que si el fichero existe, nos devuelva un mensaje de que el fichero ya existe. En caso de que no exista, los deberéis crear y que la función nos muestre un mensaje de que se ha creado. Tendréis que ir cambiando de directorio para poder crear las carpetas y cambiar sus nombres."
   ]
  },
  {
   "cell_type": "code",
   "execution_count": 2,
   "metadata": {},
   "outputs": [],
   "source": [
    "import os "
   ]
  },
  {
   "cell_type": "code",
   "execution_count": 3,
   "metadata": {},
   "outputs": [],
   "source": [
    "from os import getcwd"
   ]
  },
  {
   "cell_type": "code",
   "execution_count": 105,
   "metadata": {},
   "outputs": [],
   "source": [
    "mi_directorio_absoluto_ju = '/Users/ju/Documents/Adalab/DA-promo-c-modulo-1-sprint-2-Judith-Natalia/DA-promo-c-modulo-1-sprint-2-Judith-Natalia/Python' "
   ]
  },
  {
   "cell_type": "code",
   "execution_count": 106,
   "metadata": {},
   "outputs": [
    {
     "name": "stdout",
     "output_type": "stream",
     "text": [
      "/Users/ju/Documents/Adalab/DA-promo-c-modulo-1-sprint-2-Judith-Natalia/DA-promo-c-modulo-1-sprint-2-Judith-Natalia/Python\n"
     ]
    }
   ],
   "source": [
    "print(mi_directorio_absoluto_ju)"
   ]
  },
  {
   "cell_type": "code",
   "execution_count": 56,
   "metadata": {},
   "outputs": [],
   "source": [
    "def gestion_ficheros (carp1,carp2, carp_renombrada3):\n",
    "    import os\n",
    "    mi_directorio_absoluto = os.getcwd()\n",
    "    print(mi_directorio_absoluto)  #Ruta que es un string. Necesito acceder a la ruta para conocer carpetas y ficheros tengo dentro.\n",
    "    #print(os.listdir())\n",
    "    list_childs = os.listdir()   #Crear una lista del contenido de la ruta.\n",
    "    \n",
    "    if carp1 not in list_childs:\n",
    "        os.mkdir(carp1)\n",
    "        print(f'Se ha creado la carpeta {carp1} se ha creado con éxito')\n",
    "    else:\n",
    "        print(f'La carpeta {carp1} ya existe')\n",
    "        \n",
    "    os.chdir(mi_directorio_absoluto+\"/\"+carp1)\n",
    "    list_childs = os.listdir()\n",
    "    \n",
    "    if carp2 not in list_childs:\n",
    "        os.mkdir(carp2)\n",
    "        print(f'Se ha creado la carpeta {carp2} con éxito')\n",
    "    else:   \n",
    "        print(f'La carpeta {carp2} ya existe')\n",
    "        \n",
    "        os.chdir(mi_directorio_absoluto+\"/\"+carp1+\"/\"+carp2)\n",
    "        print(os.getcwd()) \n",
    "    os.chdir(mi_directorio_absoluto)\n",
    "    os.rename(carp1, carp_renombrada3)\n",
    "    mi_directorio_absoluto = os.getcwd()\n",
    "\n",
    "    return\n"
   ]
  },
  {
   "cell_type": "code",
   "execution_count": 57,
   "metadata": {},
   "outputs": [
    {
     "name": "stdout",
     "output_type": "stream",
     "text": [
      "/Users/ju/Documents/Adalab/DA-promo-c-modulo-1-sprint-2-Judith-Natalia/DA-promo-c-modulo-1-sprint-2-Judith-Natalia/Python\n",
      "La carpeta aprendiendo_ficheros ya existe\n",
      "La carpeta datos ya existe\n",
      "/Users/ju/Documents/Adalab/DA-promo-c-modulo-1-sprint-2-Judith-Natalia/DA-promo-c-modulo-1-sprint-2-Judith-Natalia/Python/aprendiendo_ficheros/datos\n"
     ]
    }
   ],
   "source": [
    "gestion_ficheros('aprendiendo_ficheros','datos','primera_toma_contacto' )"
   ]
  },
  {
   "cell_type": "markdown",
   "metadata": {},
   "source": [
    "                      ---------------------------------- SEGUNDA FUNCIÓN -----------------------\n",
    "\n",
    "📌 Antes de empezar, recordad descargaros el fichero saludo.txt y guardarlo en el repo en el que estáis trabajando, dentro de una carpeta que se llame \"datos\".\n",
    "                                    Lea el fichero que se llame \"saludo.txt y muestre su contenido completo.\n",
    "                                                            Muestra la línea 4 del fichero\n",
    "\n",
    "💡 Pistas para resolver este ejercicio 💡\n",
    "\n",
    "Antes de empezar, tendréis que saber cuál es vuestro directorio de trabajo.\n",
    "Tened en cuenta en que carpeta estáis. Si vuestro directorio de trabajo no es \"datos\" tendréis que cambiarlo o poner la ruta relativa a la carpeta \"datos\".\n",
    "Usar if... else para evitar que se nos pare el código.\n",
    "Para cambiar el fichero podréis usar el comando input para preguntar el usuario donde está el fichero y que se pueda usar la ruta relativa o absoluta.\n",
    "\n"
   ]
  },
  {
   "cell_type": "code",
   "execution_count": 11,
   "metadata": {},
   "outputs": [],
   "source": [
    "#mi_directorio_absoluto = os.getcwd()\n",
    "mi_directorio_absoluto_ju = '/Users/ju/Documents/Adalab/DA-promo-c-modulo-1-sprint-2-Judith-Natalia/DA-promo-c-modulo-1-sprint-2-Judith-Natalia/Python' "
   ]
  },
  {
   "cell_type": "code",
   "execution_count": 10,
   "metadata": {},
   "outputs": [
    {
     "data": {
      "text/plain": [
       "'/Users/ju/Documents/Adalab/DA-promo-c-modulo-1-sprint-2-Judith-Natalia/DA-promo-c-modulo-1-sprint-2-Judith-Natalia/Python'"
      ]
     },
     "execution_count": 10,
     "metadata": {},
     "output_type": "execute_result"
    }
   ],
   "source": [
    "mi_directorio_absoluto_ju #Fijamos el absoluto para que siempre partamos de la misma ruta"
   ]
  },
  {
   "cell_type": "code",
   "execution_count": 142,
   "metadata": {},
   "outputs": [],
   "source": [
    "def leer_archivo(archivo_saludo):\n",
    "    import os\n",
    "    mi_directorio_absoluto = os.getcwd()\n",
    "    print(mi_directorio_absoluto)\n",
    "    while archivo_saludo not in os.listdir():\n",
    "        localizacion = input('Cual es la ruta del archivo que quieres leer')\n",
    "        print(localizacion)\n",
    "        print(os.listdir())\n",
    "        mi_directorio_absoluto = localizacion\n",
    "        os.chdir(mi_directorio_absoluto)\n",
    "    #La nueva ruta sera la original mas la carpeta datos.\n",
    "    with open( archivo_saludo, 'r') as f:\n",
    "        saludo_lista = f.readlines()\n",
    "        print(f\"Este es el fichero completo: {saludo_lista}\")\n",
    "        print (f\"Esta es la linea 4 del fichero: {saludo_lista[3]}\")\n",
    "\n",
    "    return "
   ]
  },
  {
   "cell_type": "code",
   "execution_count": 143,
   "metadata": {},
   "outputs": [
    {
     "name": "stdout",
     "output_type": "stream",
     "text": [
      "/Users/ju/Documents/Adalab/DA-promo-c-modulo-1-sprint-2-Judith-Natalia/DA-promo-c-modulo-1-sprint-2-Judith-Natalia/Python/primera_toma_contacto/datos\n",
      "Este es el fichero completo: ['Hola Adalabers!!!\\n', '\\n', 'Estamos en la sesión de pair-programming para familiarizarnos con la gestión de carpetas y ficheros desde Python 🙂🌊\\n', '\\n', 'Esto esta siendo suuuper divertidooooo']\n",
      "Esta es la linea 4 del fichero: \n",
      "\n"
     ]
    }
   ],
   "source": [
    "leer_archivo('saludo.txt')"
   ]
  },
  {
   "cell_type": "markdown",
   "metadata": {},
   "source": [
    "\n",
    "                                                LECTURA Y ESCRITURA DE FICHEROS \n",
    "\n",
    "1. La función debe recibir 4 parámetros:\n",
    "\n",
    "- Nombre del fichero, incluyendo la extensión.\n",
    "- Como queremos leer el fichero.\n",
    "- El encoding del fichero.\n",
    "- El contenido que queremos escribir en el fichero.\n",
    "\n",
    "2. Condiciones de la función:\n",
    "- Si el fichero no existe, debe crearlo, insertar contenido y mostrar su contenido.\n",
    "- Si el fichero existe pregunta al usuario si quiere sobreescribirlo. En caso de Si, sobreescribe el fichero, insertad contenido y leedlo. En caso de No, no hace nada.\n",
    "\n",
    "💡 Pistas 💡\n",
    "Para chequear si un fichero existe, podemos usar la función os.listdir() que devuelve una lista con los nombres de los ficheros que hay en un directorio.\n",
    "Para crear un fichero, podemos usar la función open() que recibe como parámetros el nombre del fichero, el modo de apertura y el encoding.\n",
    "Para chequear si el fichero existe debéis usar los for loops y el método in para comprobar si el nombre del fichero está en la lista de ficheros.\n",
    "Usar un input para preguntar al usuario si quiere sobreescribir el fichero.\n",
    "Para sobreescribir el fichero, podemos usar la función open() que recibe como parámetros el nombre del fichero, el modo de apertura y el encoding.\n",
    "Strings que cubren más que una línea tienen que ser iniciados y cerrados con tres comillas \"\"\".\n",
    "\n",
    "El contenido que tenéis que insertar es: \n"
   ]
  },
  {
   "cell_type": "code",
   "execution_count": 118,
   "metadata": {},
   "outputs": [
    {
     "data": {
      "text/plain": [
       "'/Users/ju/Documents/Adalab/DA-promo-c-modulo-1-sprint-2-Judith-Natalia/DA-promo-c-modulo-1-sprint-2-Judith-Natalia/Python/leccion_11_Gestion_de_ficheros'"
      ]
     },
     "execution_count": 118,
     "metadata": {},
     "output_type": "execute_result"
    }
   ],
   "source": [
    "ubi_carpeta = os.getcwd()\n",
    "ubi_carpeta "
   ]
  },
  {
   "cell_type": "code",
   "execution_count": 148,
   "metadata": {},
   "outputs": [],
   "source": [
    "def gestion_archivo(nombre_fichero, modo, encod, texto):\n",
    "    print(f'Nos encontramos en esta ubicacion:', ubi_carpeta)\n",
    "\n",
    "    if nombre_fichero in os.listdir():\n",
    "        \n",
    "        # Si ya existe, preguntamos si desea sobreescribirlo\n",
    "        sobreescribir = input(\"Quiere sobreescribir el fichero?\")\n",
    "        if sobreescribir == \"Si\":\n",
    "            with open(nombre_fichero, \"w\") as f:\n",
    "                print(str(texto))\n",
    "                f.write(texto)\n",
    "        else:\n",
    "            pass\n",
    "    else:\n",
    "        with open(nombre_fichero,\"w\", encoding = encod) as f:\n",
    "            f.write(texto)\n",
    "            f.close\n",
    "\n",
    "    return"
   ]
  },
  {
   "cell_type": "code",
   "execution_count": 123,
   "metadata": {},
   "outputs": [],
   "source": [
    "\n",
    "\n",
    "archivo_texto = \"\"\"      Thu Oct 31 08:11:39 2002\n",
    "        Return-Path: <bensul2004nng@spinfinder.com>\n",
    "        X-Sieve: cmu-sieve 2.0\n",
    "        Return-Path: <bensul2004nng@spinfinder.com>\n",
    "        Message-Id: <200210311310.g9VDANt24674@bloodwork.mr.itd.UM>\n",
    "        From: \"Mr. Ben Suleman\" <bensul2004nng@spinfinder.com>\n",
    "        Date: Thu, 31 Oct 2002 05:10:00\n",
    "        To: R@M\n",
    "        Subject: URGENT ASSISTANCE /RELATIONSHIP (P)\n",
    "        MIME-Version: 1.0\n",
    "        Content-Type: text/plain;charset=\"iso-8859-1\"\n",
    "        Content-Transfer-Encoding: 7bit\n",
    "        Status: O\n",
    "\n",
    "        Dear Friend,\n",
    "\n",
    "        I am Mr. Ben Suleman a custom officer and work as Assistant controller of the Customs and Excise department Of the Federal Ministry of Internal Affairs stationed at the Murtala Mohammed International Airport, Ikeja, Lagos-Nigeria.\n",
    "\n",
    "        After the sudden death of the former Head of state of Nigeria General Sanni Abacha on June 8th 1998 his aides and immediate members of his family were arrested while trying to escape from Nigeria in a Chartered jet to Saudi Arabia with 6 trunk boxes Marked \"Diplomatic Baggage\". Acting on a tip-off as they attempted to board the Air Craft,my officials carried out a thorough search on the air craft and discovered that the 6 trunk boxes contained foreign currencies amounting to US$197,570,000.00(One Hundred and  Ninety-Seven Million Five Hundred Seventy Thousand United States Dollars).\n",
    "\n",
    "        I declared only (5) five boxes to the government and withheld one (1) in my custody containing the sum of (US$30,000,000.00) Thirty Million United States Dollars Only, which has been disguised to prevent their being discovered during transportation process.Due to several media reports on the late head of state about all the money him and his co-government officials stole from our government treasury amounting\n",
    "        to US$55 Billion Dollars (ref:ngrguardiannews.com) of July 2nd 1999. Even the London times of July 1998 reported that General Abacha has over US$3.Billion dollars in one account overseas. We decided to conceal this one (1)box till the situation is calm and quite on the issue. The box was thus deposited with a security company here in Nigeria and tagged as \"Precious Stones and Jewellry\" in other that its\n",
    "        content will not be discovered. Now that all is calm, we (myself and two of my colleagues in the operations team) are now ready to move this box out of the country through a diplomatic arrangement which is the safest means. \n",
    "\n",
    "        However as government officials the Civil Service Code of Conduct does not allow us by law to operate any foreign account or own foreign investment and the amount of money that can be found in our account\n",
    "        cannot be more than our salary on the average, thus our handicapp and our need for your assistance to help collect and keep safely in your account this money.\n",
    "\n",
    "        Therefore we want you to assist us in moving this money out of Nigeria. We shall definitely compensate you handsomely for the assistance. We can do this by instructing the Security Company here in Nigeria to\n",
    "        move the consignment to their affiliate branch office outside Nigeria through diplomatic means and the consignment will be termed as Precious Stones and Jewelleries\" which you bought during your visit to Nigeria and is being transfered to your country from here for safe keeping. Then we can arrange to meet at the destination country to take the delivery of the consignment. You will thereafter open an account there and lodge the Money there and gradually instruct remittance to your Country.\n",
    "\n",
    "        This business is '100%' risk free for you so please treat this matter with utmost confidentiality .If you indicate your interest to assist us please just e-mail me for more Explanation on how we plan to execute the transaction.\n",
    "\n",
    "        Expecting your response urgently.\n",
    "\n",
    "        Best regards,\n",
    "\n",
    "        Mr. Ben Suleman\n",
    "\n",
    "        Wed Oct 30 21:41:56 2002\n",
    "        Return-Path: <james_ngola2002@maktoob.com>\n",
    "        X-Sieve: cmu-sieve 2.0\n",
    "        Return-Path: <james_ngola2002@maktoob.com>\n",
    "        Message-Id: <200210310241.g9V2fNm6028281@cs.CU>\n",
    "        From: \"MR. JAMES NGOLA.\" <james_ngola2002@maktoob.com>\n",
    "        Reply-To: james_ngola2002@maktoob.com\n",
    "        To: webmaster@aclweb.org\n",
    "        Date: Thu, 31 Oct 2002 02:38:20 +0000\n",
    "        Subject: URGENT BUSINESS ASSISTANCE AND PARTNERSHIP\n",
    "        X-Mailer: Microsoft Outlook Express 5.00.2919.6900 DM\n",
    "        MIME-Version: 1.0\n",
    "        Content-Type: text/plain; charset=\"us-ascii\"\n",
    "        Content-Transfer-Encoding: 8bit\n",
    "        X-MIME-Autoconverted: from quoted-printable to 8bit by sideshowmel.si.UM id g9V2foW24311\n",
    "        Status: O\n",
    "\n",
    "        FROM:MR. JAMES NGOLA.\n",
    "        CONFIDENTIAL TEL: 233-27-587908.\n",
    "        E-MAIL: (james_ngola2002@maktoob.com).\n",
    "\n",
    "        URGENT BUSINESS ASSISTANCE AND PARTNERSHIP.\n",
    "\n",
    "\n",
    "        DEAR FRIEND,\n",
    "\n",
    "        I AM ( DR.) JAMES NGOLA, THE PERSONAL ASSISTANCE TO THE LATE CONGOLESE (PRESIDENT LAURENT KABILA) WHO WAS ASSASSINATED BY HIS BODY GUARD ON 16TH JAN. 2001.\n",
    "\n",
    "\n",
    "        THE INCIDENT OCCURRED IN OUR PRESENCE WHILE WE WERE HOLDING MEETING WITH HIS EXCELLENCY OVER THE FINANCIAL RETURNS FROM THE DIAMOND SALES IN THE AREAS CONTROLLED BY (D.R.C.) DEMOCRATIC REPUBLIC OF CONGO FORCES AND THEIR FOREIGN ALLIES ANGOLA AND ZIMBABWE, HAVING RECEIVED THE PREVIOUS DAY (USD$100M) ONE HUNDRED MILLION UNITED STATES DOLLARS, CASH IN THREE DIPLOMATIC BOXES ROUTED THROUGH ZIMBABWE.\n",
    "\n",
    "        MY PURPOSE OF WRITING YOU THIS LETTER IS TO SOLICIT FOR YOUR ASSISTANCE AS TO BE A COVER TO THE FUND AND ALSO COLLABORATION IN MOVING THE SAID FUND INTO YOUR BANK ACCOUNT THE SUM OF (USD$25M) TWENTY FIVE MILLION UNITED STATES DOLLARS ONLY, WHICH I DEPOSITED WITH A SECURITY COMPANY IN GHANA, IN A DIPLOMATIC BOX AS GOLDS WORTH (USD$25M) TWENTY FIVE MILLION UNITED STATES DOLLARS ONLY FOR SAFE KEEPING IN A SECURITY VAULT FOR ANY FURTHER INVESTMENT PERHAPS IN YOUR COUNTRY. \n",
    "\n",
    "        YOU WERE INTRODUCED TO ME BY A RELIABLE FRIEND OF MINE WHO IS A TRAVELLER,AND ALSO A MEMBER OF CHAMBER OF COMMERCE AS A RELIABLE AND TRUSTWORTHY PERSON WHOM I CAN RELY ON AS FOREIGN PARTNER, EVEN THOUGH THE NATURE OF THE TRANSACTION WAS NOT REVEALED TO HIM FOR SECURITY REASONS.\n",
    "\n",
    "\n",
    "        THE (USD$25M) WAS PART OF A PROCEEDS FROM DIAMOND TRADE MEANT FOR THE LATE PRESIDENT LAURENT KABILA WHICH WAS DELIVERED THROUGH ZIMBABWE IN DIPLOMATIC BOXES. THE BOXES WERE KEPT UNDER MY CUSTODY BEFORE THE SAD EVENT THAT TOOK THE LIFE OF (MR. PRESIDENT).THE CONFUSION THAT ENSUED AFTER THE ASSASSINATION AND THE SPORADIC SHOOTING AMONG THE FACTIONS, I HAVE TO RUN AWAY FROM THE COUNTRY FOR MY DEAR LIFE AS I AM NOT A SOLDIER BUT A CIVIL SERVANT I CROSSED RIVER CONGO TO OTHER SIDE OF CONGO LIBREVILLE FROM THERE I MOVED TO THE THIRD COUNTRY GHANA WHERE I AM PRESENTLY TAKING REFUGE. \n",
    "\n",
    "        AS A MATTER OF FACT, WHAT I URGENTLY NEEDED FROM YOU IS YOUR ASSISTANCE IN MOVING THIS MONEY INTO YOUR ACCOUNT IN YOUR COUNTRY FOR INVESTMENT WITHOUT RAISING EYEBROW. FOR YOUR ASSISTANCE I WILL GIVE YOU 20% OF THE TOTAL SUM AS YOUR OWN SHARE WHEN THE MONEY GETS TO YOUR ACCOUNT, WHILE 75% WILL BE FOR ME, OF WHICH WITH YOUR KIND ADVICE I HOPE TO INVEST IN PROFITABLE VENTURE IN YOUR COUNTRY IN OTHER TO SETTLE DOWN FOR MEANINGFUL LIFE, AS I AM TIRED OF LIVING IN A WAR ENVIRONMENT. \n",
    "\n",
    "        THE REMAINING 5% WILL BE USED TO OFFSET ANY COST INCURRED IN THE CAUSE OF MOVING THE MONEY TO YOUR ACCOUNT. IF THE PROPOSAL IS ACCEPTABLE TO YOU PLEASE CONTACT ME IMMEDIATELY THROUGH THE ABOVE TELEPHONE AND E-MAIL, TO ENABLE ME ARRANGE FACE TO FACE MEETING WITH YOU IN GHANA FOR THE CLEARANCE OF THE FUNDS BEFORE TRANSFRING IT TO YOUR BANK ACCOUNT AS SEEING IS BELIEVING. \n",
    "\n",
    "        FINALLY, IT IS IMPORTANT ALSO THAT I LET YOU UNDERSTAND THAT THERE IS NO RISK INVOLVED WHATSOEVER AS THE MONEY HAD NO RECORD IN KINSHASA FOR IT WAS MEANT FOR THE PERSONAL USE OF (MR. PRESIDEND ) BEFORE THE NEFARIOUS INCIDENT OCCURRED, AND ALSO I HAVE ALL THE NECESSARY DOCUMENTS AS REGARDS TO THE FUNDS INCLUDING THE (CERTIFICATE OF DEPOSIT), AS I AM THE DEPOSITOR OF THE CONSIGNMENT.\n",
    "\n",
    "\n",
    "        LOOKING FORWARD TO YOUR URGENT RESPONSE.\n",
    "\n",
    "        YOUR SINCERELY,\n",
    "\n",
    "        MR. JAMES NGOLA. \"\"\""
   ]
  },
  {
   "cell_type": "code",
   "execution_count": 149,
   "metadata": {},
   "outputs": [
    {
     "name": "stdout",
     "output_type": "stream",
     "text": [
      "Nos encontramos en esta ubicacion: /Users/ju/Documents/Adalab/DA-promo-c-modulo-1-sprint-2-Judith-Natalia/DA-promo-c-modulo-1-sprint-2-Judith-Natalia/Python/leccion_11_Gestion_de_ficheros\n",
      "      Thu Oct 31 08:11:39 2002\n",
      "        Return-Path: <bensul2004nng@spinfinder.com>\n",
      "        X-Sieve: cmu-sieve 2.0\n",
      "        Return-Path: <bensul2004nng@spinfinder.com>\n",
      "        Message-Id: <200210311310.g9VDANt24674@bloodwork.mr.itd.UM>\n",
      "        From: \"Mr. Ben Suleman\" <bensul2004nng@spinfinder.com>\n",
      "        Date: Thu, 31 Oct 2002 05:10:00\n",
      "        To: R@M\n",
      "        Subject: URGENT ASSISTANCE /RELATIONSHIP (P)\n",
      "        MIME-Version: 1.0\n",
      "        Content-Type: text/plain;charset=\"iso-8859-1\"\n",
      "        Content-Transfer-Encoding: 7bit\n",
      "        Status: O\n",
      "\n",
      "        Dear Friend,\n",
      "\n",
      "        I am Mr. Ben Suleman a custom officer and work as Assistant controller of the Customs and Excise department Of the Federal Ministry of Internal Affairs stationed at the Murtala Mohammed International Airport, Ikeja, Lagos-Nigeria.\n",
      "\n",
      "        After the sudden death of the former Head of state of Nigeria General Sanni Abacha on June 8th 1998 his aides and immediate members of his family were arrested while trying to escape from Nigeria in a Chartered jet to Saudi Arabia with 6 trunk boxes Marked \"Diplomatic Baggage\". Acting on a tip-off as they attempted to board the Air Craft,my officials carried out a thorough search on the air craft and discovered that the 6 trunk boxes contained foreign currencies amounting to US$197,570,000.00(One Hundred and  Ninety-Seven Million Five Hundred Seventy Thousand United States Dollars).\n",
      "\n",
      "        I declared only (5) five boxes to the government and withheld one (1) in my custody containing the sum of (US$30,000,000.00) Thirty Million United States Dollars Only, which has been disguised to prevent their being discovered during transportation process.Due to several media reports on the late head of state about all the money him and his co-government officials stole from our government treasury amounting\n",
      "        to US$55 Billion Dollars (ref:ngrguardiannews.com) of July 2nd 1999. Even the London times of July 1998 reported that General Abacha has over US$3.Billion dollars in one account overseas. We decided to conceal this one (1)box till the situation is calm and quite on the issue. The box was thus deposited with a security company here in Nigeria and tagged as \"Precious Stones and Jewellry\" in other that its\n",
      "        content will not be discovered. Now that all is calm, we (myself and two of my colleagues in the operations team) are now ready to move this box out of the country through a diplomatic arrangement which is the safest means. \n",
      "\n",
      "        However as government officials the Civil Service Code of Conduct does not allow us by law to operate any foreign account or own foreign investment and the amount of money that can be found in our account\n",
      "        cannot be more than our salary on the average, thus our handicapp and our need for your assistance to help collect and keep safely in your account this money.\n",
      "\n",
      "        Therefore we want you to assist us in moving this money out of Nigeria. We shall definitely compensate you handsomely for the assistance. We can do this by instructing the Security Company here in Nigeria to\n",
      "        move the consignment to their affiliate branch office outside Nigeria through diplomatic means and the consignment will be termed as Precious Stones and Jewelleries\" which you bought during your visit to Nigeria and is being transfered to your country from here for safe keeping. Then we can arrange to meet at the destination country to take the delivery of the consignment. You will thereafter open an account there and lodge the Money there and gradually instruct remittance to your Country.\n",
      "\n",
      "        This business is '100%' risk free for you so please treat this matter with utmost confidentiality .If you indicate your interest to assist us please just e-mail me for more Explanation on how we plan to execute the transaction.\n",
      "\n",
      "        Expecting your response urgently.\n",
      "\n",
      "        Best regards,\n",
      "\n",
      "        Mr. Ben Suleman\n",
      "\n",
      "        Wed Oct 30 21:41:56 2002\n",
      "        Return-Path: <james_ngola2002@maktoob.com>\n",
      "        X-Sieve: cmu-sieve 2.0\n",
      "        Return-Path: <james_ngola2002@maktoob.com>\n",
      "        Message-Id: <200210310241.g9V2fNm6028281@cs.CU>\n",
      "        From: \"MR. JAMES NGOLA.\" <james_ngola2002@maktoob.com>\n",
      "        Reply-To: james_ngola2002@maktoob.com\n",
      "        To: webmaster@aclweb.org\n",
      "        Date: Thu, 31 Oct 2002 02:38:20 +0000\n",
      "        Subject: URGENT BUSINESS ASSISTANCE AND PARTNERSHIP\n",
      "        X-Mailer: Microsoft Outlook Express 5.00.2919.6900 DM\n",
      "        MIME-Version: 1.0\n",
      "        Content-Type: text/plain; charset=\"us-ascii\"\n",
      "        Content-Transfer-Encoding: 8bit\n",
      "        X-MIME-Autoconverted: from quoted-printable to 8bit by sideshowmel.si.UM id g9V2foW24311\n",
      "        Status: O\n",
      "\n",
      "        FROM:MR. JAMES NGOLA.\n",
      "        CONFIDENTIAL TEL: 233-27-587908.\n",
      "        E-MAIL: (james_ngola2002@maktoob.com).\n",
      "\n",
      "        URGENT BUSINESS ASSISTANCE AND PARTNERSHIP.\n",
      "\n",
      "\n",
      "        DEAR FRIEND,\n",
      "\n",
      "        I AM ( DR.) JAMES NGOLA, THE PERSONAL ASSISTANCE TO THE LATE CONGOLESE (PRESIDENT LAURENT KABILA) WHO WAS ASSASSINATED BY HIS BODY GUARD ON 16TH JAN. 2001.\n",
      "\n",
      "\n",
      "        THE INCIDENT OCCURRED IN OUR PRESENCE WHILE WE WERE HOLDING MEETING WITH HIS EXCELLENCY OVER THE FINANCIAL RETURNS FROM THE DIAMOND SALES IN THE AREAS CONTROLLED BY (D.R.C.) DEMOCRATIC REPUBLIC OF CONGO FORCES AND THEIR FOREIGN ALLIES ANGOLA AND ZIMBABWE, HAVING RECEIVED THE PREVIOUS DAY (USD$100M) ONE HUNDRED MILLION UNITED STATES DOLLARS, CASH IN THREE DIPLOMATIC BOXES ROUTED THROUGH ZIMBABWE.\n",
      "\n",
      "        MY PURPOSE OF WRITING YOU THIS LETTER IS TO SOLICIT FOR YOUR ASSISTANCE AS TO BE A COVER TO THE FUND AND ALSO COLLABORATION IN MOVING THE SAID FUND INTO YOUR BANK ACCOUNT THE SUM OF (USD$25M) TWENTY FIVE MILLION UNITED STATES DOLLARS ONLY, WHICH I DEPOSITED WITH A SECURITY COMPANY IN GHANA, IN A DIPLOMATIC BOX AS GOLDS WORTH (USD$25M) TWENTY FIVE MILLION UNITED STATES DOLLARS ONLY FOR SAFE KEEPING IN A SECURITY VAULT FOR ANY FURTHER INVESTMENT PERHAPS IN YOUR COUNTRY. \n",
      "\n",
      "        YOU WERE INTRODUCED TO ME BY A RELIABLE FRIEND OF MINE WHO IS A TRAVELLER,AND ALSO A MEMBER OF CHAMBER OF COMMERCE AS A RELIABLE AND TRUSTWORTHY PERSON WHOM I CAN RELY ON AS FOREIGN PARTNER, EVEN THOUGH THE NATURE OF THE TRANSACTION WAS NOT REVEALED TO HIM FOR SECURITY REASONS.\n",
      "\n",
      "\n",
      "        THE (USD$25M) WAS PART OF A PROCEEDS FROM DIAMOND TRADE MEANT FOR THE LATE PRESIDENT LAURENT KABILA WHICH WAS DELIVERED THROUGH ZIMBABWE IN DIPLOMATIC BOXES. THE BOXES WERE KEPT UNDER MY CUSTODY BEFORE THE SAD EVENT THAT TOOK THE LIFE OF (MR. PRESIDENT).THE CONFUSION THAT ENSUED AFTER THE ASSASSINATION AND THE SPORADIC SHOOTING AMONG THE FACTIONS, I HAVE TO RUN AWAY FROM THE COUNTRY FOR MY DEAR LIFE AS I AM NOT A SOLDIER BUT A CIVIL SERVANT I CROSSED RIVER CONGO TO OTHER SIDE OF CONGO LIBREVILLE FROM THERE I MOVED TO THE THIRD COUNTRY GHANA WHERE I AM PRESENTLY TAKING REFUGE. \n",
      "\n",
      "        AS A MATTER OF FACT, WHAT I URGENTLY NEEDED FROM YOU IS YOUR ASSISTANCE IN MOVING THIS MONEY INTO YOUR ACCOUNT IN YOUR COUNTRY FOR INVESTMENT WITHOUT RAISING EYEBROW. FOR YOUR ASSISTANCE I WILL GIVE YOU 20% OF THE TOTAL SUM AS YOUR OWN SHARE WHEN THE MONEY GETS TO YOUR ACCOUNT, WHILE 75% WILL BE FOR ME, OF WHICH WITH YOUR KIND ADVICE I HOPE TO INVEST IN PROFITABLE VENTURE IN YOUR COUNTRY IN OTHER TO SETTLE DOWN FOR MEANINGFUL LIFE, AS I AM TIRED OF LIVING IN A WAR ENVIRONMENT. \n",
      "\n",
      "        THE REMAINING 5% WILL BE USED TO OFFSET ANY COST INCURRED IN THE CAUSE OF MOVING THE MONEY TO YOUR ACCOUNT. IF THE PROPOSAL IS ACCEPTABLE TO YOU PLEASE CONTACT ME IMMEDIATELY THROUGH THE ABOVE TELEPHONE AND E-MAIL, TO ENABLE ME ARRANGE FACE TO FACE MEETING WITH YOU IN GHANA FOR THE CLEARANCE OF THE FUNDS BEFORE TRANSFRING IT TO YOUR BANK ACCOUNT AS SEEING IS BELIEVING. \n",
      "\n",
      "        FINALLY, IT IS IMPORTANT ALSO THAT I LET YOU UNDERSTAND THAT THERE IS NO RISK INVOLVED WHATSOEVER AS THE MONEY HAD NO RECORD IN KINSHASA FOR IT WAS MEANT FOR THE PERSONAL USE OF (MR. PRESIDEND ) BEFORE THE NEFARIOUS INCIDENT OCCURRED, AND ALSO I HAVE ALL THE NECESSARY DOCUMENTS AS REGARDS TO THE FUNDS INCLUDING THE (CERTIFICATE OF DEPOSIT), AS I AM THE DEPOSITOR OF THE CONSIGNMENT.\n",
      "\n",
      "\n",
      "        LOOKING FORWARD TO YOUR URGENT RESPONSE.\n",
      "\n",
      "        YOUR SINCERELY,\n",
      "\n",
      "        MR. JAMES NGOLA. \n"
     ]
    }
   ],
   "source": [
    "gestion_archivo('email.txt', 'rt', 'UTF-8',archivo_texto)"
   ]
  },
  {
   "cell_type": "markdown",
   "metadata": {},
   "source": []
  },
  {
   "cell_type": "markdown",
   "metadata": {},
   "source": [
    "                                                    - ARCHIVOS XML \n",
    "\n",
    "Aquí tenéis un archivo llamado peliculas.xml que contiene una lista de películas.\n",
    "En este ejercicio tendréis que crear una función que reciba el nombre del archivo xml y que devuelva lo siguiente:\n",
    "- Qué tag y atributos tiene el archivo xml.\n",
    "- La descripción de cada una de las películas que tenemos en ese archivo.\n",
    "- Los años en que fueron estrenadas las películas.\n",
    "\n",
    "💡 Pistas 💡\n",
    "- La función debe recibir un parámetro, el nombre del archivo xml.\n",
    "- Tendréis que utlizar un bucle for para recorrer todo el archivo xml y extraer la información que os pedimos.\n",
    "- Recordad el método .text para extraer el texto de un elemento."
   ]
  },
  {
   "cell_type": "code",
   "execution_count": 104,
   "metadata": {},
   "outputs": [
    {
     "data": {
      "text/plain": [
       "'/Users/ju/Documents/Adalab/DA-promo-c-modulo-1-sprint-2-Judith-Natalia/DA-promo-c-modulo-1-sprint-2-Judith-Natalia/Python/leccion_11_Gestion_de_ficheros'"
      ]
     },
     "execution_count": 104,
     "metadata": {},
     "output_type": "execute_result"
    }
   ],
   "source": [
    "ubi_carpeta = os.getcwd()\n",
    "ubi_carpeta"
   ]
  },
  {
   "cell_type": "code",
   "execution_count": 72,
   "metadata": {},
   "outputs": [],
   "source": [
    "import xml.etree.ElementTree as ET\n",
    "#Generamos la funcion donde acceder al archivo \n",
    "def read_xml(archivo):\n",
    "    tree = ET.parse(archivo) #Apertura del archivo \n",
    "    root = tree.getroot() #Nos saca el elemento que envuelve el archivo\n",
    "    print(f' Los tags de este xml son: {root.tag}')\n",
    "    print(f' Los atributos de este xml son: {root.attrib}')\n",
    "    \n",
    "\n",
    "    #Itero mediante un loop y que este itere por todo el archivo para obtener la informacion de los tags y atributos que tenemos, asi como \n",
    "    #conocer cada una de las peliculas y los años en las que fueron estrenadas \n",
    "    for genre in root.findall('genre'):\n",
    "        for decade in genre.findall('decade'):\n",
    "            for movie in decade.findall('movie'):\n",
    "                    pelicula = movie.attrib['title']\n",
    "                    año = movie.find('year').text\n",
    "                    print(f'El argumento de la pelicula', pelicula , 'es:', movie.find('description').text)\n",
    "                    print('En el año', año, \"fue estrenada la pelicula\", pelicula)\n",
    "    return"
   ]
  },
  {
   "cell_type": "code",
   "execution_count": 73,
   "metadata": {},
   "outputs": [
    {
     "name": "stdout",
     "output_type": "stream",
     "text": [
      " Los tags de este xml son: collection\n",
      " Los atributos de este xml son: {}\n",
      "El argumento de la pelicula Indiana Jones: The raiders of the lost Ark es: \n",
      "                'Archaeologist and adventurer Indiana Jones \n",
      "                is hired by the U.S. government to find the Ark of  the Covenant before the Nazis.'\n",
      "                \n",
      "En el año 1981 fue estrenada la pelicula Indiana Jones: The raiders of the lost Ark\n",
      "El argumento de la pelicula THE KARATE KID es: None provided.\n",
      "En el año 1984 fue estrenada la pelicula THE KARATE KID\n",
      "El argumento de la pelicula Back 2 the Future es: Marty McFly\n",
      "En el año 1985 fue estrenada la pelicula Back 2 the Future\n",
      "El argumento de la pelicula X-Men es: Two mutants come to a private academy for their kind whose resident superhero team must oppose a terrorist organization with similar powers.\n",
      "En el año 2000 fue estrenada la pelicula X-Men\n",
      "El argumento de la pelicula Batman Returns es: NA.\n",
      "En el año 1992 fue estrenada la pelicula Batman Returns\n",
      "El argumento de la pelicula Reservoir Dogs es: WhAtEvER I Want!!!?!\n",
      "En el año 1992 fue estrenada la pelicula Reservoir Dogs\n",
      "El argumento de la pelicula ALIEN es: \"\"\"\"\"\"\"\"\"\n",
      "En el año 1979 fue estrenada la pelicula ALIEN\n",
      "El argumento de la pelicula Ferris Bueller's Day Off es: Funny movie on funny guy \n",
      "En el año 1986 fue estrenada la pelicula Ferris Bueller's Day Off\n",
      "El argumento de la pelicula American Psycho es: psychopathic Bateman\n",
      "En el año 2000 fue estrenada la pelicula American Psycho\n"
     ]
    }
   ],
   "source": [
    "read_xml(\"peliculas_correcto.xml\")"
   ]
  }
 ],
 "metadata": {
  "kernelspec": {
   "display_name": "Python 3.10.8 64-bit",
   "language": "python",
   "name": "python3"
  },
  "language_info": {
   "codemirror_mode": {
    "name": "ipython",
    "version": 3
   },
   "file_extension": ".py",
   "mimetype": "text/x-python",
   "name": "python",
   "nbconvert_exporter": "python",
   "pygments_lexer": "ipython3",
   "version": "3.10.8"
  },
  "orig_nbformat": 4,
  "vscode": {
   "interpreter": {
    "hash": "aee8b7b246df8f9039afb4144a1f6fd8d2ca17a180786b69acc140d282b71a49"
   }
  }
 },
 "nbformat": 4,
 "nbformat_minor": 2
}
