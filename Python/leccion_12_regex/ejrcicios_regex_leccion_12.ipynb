{
 "cells": [
  {
   "cell_type": "markdown",
   "metadata": {},
   "source": [
    "1. Extraer el email de la persona que envió el email (os deberían salir 2).\n",
    "\n",
    "💡 Pista 💡 Tendremos que hacer dos busquedas:\n",
    "\n",
    "Una para extraer toda la información del remitente. El remitente siempre empieza por From:\n",
    "\n",
    "``info_remitente = re.findall('From:.*',email)``\n",
    "\n",
    "Otra para extraer el email únicamente.\n",
    "\n"
   ]
  },
  {
   "cell_type": "code",
   "execution_count": null,
   "metadata": {},
   "outputs": [],
   "source": [
    "#Fundamental importar la/s librerias que neceistaremos:\n",
    "import re"
   ]
  },
  {
   "cell_type": "code",
   "execution_count": null,
   "metadata": {},
   "outputs": [],
   "source": [
    "#nos guardamos el email en una variable, seguramente esto podemos vincularlo luego creando una funcion o con un with open, tenemos que pensarlo.\n",
    "email = \"\"\"Thu Oct 31 08:11:39 2002\n",
    "    Return-Path: <bensul2004nng@spinfinder.com>\n",
    "    X-Sieve: cmu-sieve 2.0\n",
    "    Return-Path: <bensul2004nng@spinfinder.com>\n",
    "    Message-Id: <200210311310.g9VDANt24674@bloodwork.mr.itd.UM>\n",
    "    From: \"Mr. Ben Suleman\" <bensul2004nng@spinfinder.com>\n",
    "    Date: Thu, 31 Oct 2002 05:10:00\n",
    "    To: R@M\n",
    "    Subject: URGENT ASSISTANCE /RELATIONSHIP (P)\n",
    "    MIME-Version: 1.0\n",
    "    Content-Type: text/plain;charset=\"iso-8859-1\"\n",
    "    Content-Transfer-Encoding: 7bit\n",
    "    Status: O\n",
    "\n",
    "    Dear Friend,\n",
    "\n",
    "    I am Mr. Ben Suleman a custom officer and work as Assistant controller of the Customs and Excise department Of the Federal Ministry of Internal Affairs stationed at the Murtala Mohammed International Airport, Ikeja, Lagos-Nigeria.\n",
    "\n",
    "    After the sudden death of the former Head of state of Nigeria General Sanni Abacha on June 8th 1998 his aides and immediate members of his family were arrested while trying to escape from Nigeria in a Chartered jet to Saudi Arabia with 6 trunk boxes Marked \"Diplomatic Baggage\". Acting on a tip-off as they attempted to board the Air Craft,my officials carried out a thorough search on the air craft and discovered that the 6 trunk boxes contained foreign currencies amounting to US$197,570,000.00(One Hundred and  Ninety-Seven Million Five Hundred Seventy Thousand United States Dollars).\n",
    "\n",
    "    I declared only (5) five boxes to the government and withheld one (1) in my custody containing the sum of (US$30,000,000.00) Thirty Million United States Dollars Only, which has been disguised to prevent their being discovered during transportation process.Due to several media reports on the late head of state about all the money him and his co-government officials stole from our government treasury amounting\n",
    "    to US$55 Billion Dollars (ref:ngrguardiannews.com) of July 2nd 1999. Even the London times of July 1998 reported that General Abacha has over US$3.Billion dollars in one account overseas. We decided to conceal this one (1)box till the situation is calm and quite on the issue. The box was thus deposited with a security company here in Nigeria and tagged as \"Precious Stones and Jewellry\" in other that its\n",
    "    content will not be discovered. Now that all is calm, we (myself and two of my colleagues in the operations team) are now ready to move this box out of the country through a diplomatic arrangement which is the safest means. \n",
    "\n",
    "    However as government officials the Civil Service Code of Conduct does not allow us by law to operate any foreign account or own foreign investment and the amount of money that can be found in our account\n",
    "    cannot be more than our salary on the average, thus our handicapp and our need for your assistance to help collect and keep safely in your account this money.\n",
    "\n",
    "    Therefore we want you to assist us in moving this money out of Nigeria. We shall definitely compensate you handsomely for the assistance. We can do this by instructing the Security Company here in Nigeria to\n",
    "    move the consignment to their affiliate branch office outside Nigeria through diplomatic means and the consignment will be termed as Precious Stones and Jewelleries\" which you bought during your visit to Nigeria and is being transfered to your country from here for safe keeping. Then we can arrange to meet at the destination country to take the delivery of the consignment. You will thereafter open an account there and lodge the Money there and gradually instruct remittance to your Country. \n",
    "\n",
    "    This business is 100% risk free for you so please treat this matter with utmost confidentiality .If you indicate your interest to assist us please just e-mail me for more Explanation on how we plan to execute the transaction.\n",
    "\n",
    "    Expecting your response urgently.\n",
    "\n",
    "    Best regards,\n",
    "\n",
    "    Mr. Ben Suleman\n",
    "\n",
    "    Wed Oct 30 21:41:56 2002\n",
    "    Return-Path: <james_ngola2002@maktoob.com>\n",
    "    X-Sieve: cmu-sieve 2.0\n",
    "    Return-Path: <james_ngola2002@maktoob.com>\n",
    "    Message-Id: <200210310241.g9V2fNm6028281@cs.CU>\n",
    "    From: \"MR. JAMES NGOLA.\" <james_ngola2002@maktoob.com>\n",
    "    Reply-To: james_ngola2002@maktoob.com\n",
    "    To: webmaster@aclweb.org\n",
    "    Date: Thu, 31 Oct 2002 02:38:20 +0000\n",
    "    Subject: URGENT BUSINESS ASSISTANCE AND PARTNERSHIP\n",
    "    X-Mailer: Microsoft Outlook Express 5.00.2919.6900 DM\n",
    "    MIME-Version: 1.0\n",
    "    Content-Type: text/plain; charset=\"us-ascii\"\n",
    "    Content-Transfer-Encoding: 8bit\n",
    "    X-MIME-Autoconverted: from quoted-printable to 8bit by sideshowmel.si.UM id g9V2foW24311\n",
    "    Status: O\n",
    "\n",
    "    CONFIDENTIAL TEL: 233-27-587908.\n",
    "    E-MAIL: (james_ngola2002@maktoob.com).\n",
    "\n",
    "    URGENT BUSINESS ASSISTANCE AND PARTNERSHIP.\n",
    "\n",
    "\n",
    "    DEAR FRIEND,\n",
    "\n",
    "    I AM ( DR.) JAMES NGOLA, THE PERSONAL ASSISTANCE TO THE LATE CONGOLESE (PRESIDENT LAURENT KABILA) WHO WAS ASSASSINATED BY HIS BODY GUARD ON 16TH JAN. 2001.\n",
    "\n",
    "\n",
    "    THE INCIDENT OCCURRED IN OUR PRESENCE WHILE WE WERE HOLDING MEETING WITH HIS EXCELLENCY OVER THE FINANCIAL RETURNS FROM THE DIAMOND SALES IN THE AREAS CONTROLLED BY (D.R.C.) DEMOCRATIC REPUBLIC OF CONGO FORCES AND THEIR FOREIGN ALLIES ANGOLA AND ZIMBABWE, HAVING RECEIVED THE PREVIOUS DAY (USD$100M) ONE HUNDRED MILLION UNITED STATES DOLLARS, CASH IN THREE DIPLOMATIC BOXES ROUTED THROUGH ZIMBABWE.\n",
    "\n",
    "    MY PURPOSE OF WRITING YOU THIS LETTER IS TO SOLICIT FOR YOUR ASSISTANCE AS TO BE A COVER TO THE FUND AND ALSO COLLABORATION IN MOVING THE SAID FUND INTO YOUR BANK ACCOUNT THE SUM OF (USD$25M) TWENTY FIVE MILLION UNITED STATES DOLLARS ONLY, WHICH I DEPOSITED WITH A SECURITY COMPANY IN GHANA, IN A DIPLOMATIC BOX AS GOLDS WORTH (USD$25M) TWENTY FIVE MILLION UNITED STATES DOLLARS ONLY FOR SAFE KEEPING IN A SECURITY VAULT FOR ANY FURTHER INVESTMENT PERHAPS IN YOUR COUNTRY. \n",
    "\n",
    "    YOU WERE INTRODUCED TO ME BY A RELIABLE FRIEND OF MINE WHO IS A TRAVELLER,AND ALSO A MEMBER OF CHAMBER OF COMMERCE AS A RELIABLE AND TRUSTWORTHY PERSON WHOM I CAN RELY ON AS FOREIGN PARTNER, EVEN THOUGH THE NATURE OF THE TRANSACTION WAS NOT REVEALED TO HIM FOR SECURITY REASONS.\n",
    "\n",
    "\n",
    "    THE (USD$25M) WAS PART OF A PROCEEDS FROM DIAMOND TRADE MEANT FOR THE LATE PRESIDENT LAURENT KABILA WHICH WAS DELIVERED THROUGH ZIMBABWE IN DIPLOMATIC BOXES. THE BOXES WERE KEPT UNDER MY CUSTODY BEFORE THE SAD EVENT THAT TOOK THE LIFE OF (MR. PRESIDENT).THE CONFUSION THAT ENSUED AFTER THE ASSASSINATION AND THE SPORADIC SHOOTING AMONG THE FACTIONS, I HAVE TO RUN AWAY FROM THE COUNTRY FOR MY DEAR LIFE AS I AM NOT A SOLDIER BUT A CIVIL SERVANT I CROSSED RIVER CONGO TO OTHER SIDE OF CONGO LIBREVILLE FROM THERE I MOVED TO THE THIRD COUNTRY GHANA WHERE I AM PRESENTLY TAKING REFUGE. \n",
    "\n",
    "    AS A MATTER OF FACT, WHAT I URGENTLY NEEDED FROM YOU IS YOUR ASSISTANCE IN MOVING THIS MONEY INTO YOUR ACCOUNT IN YOUR COUNTRY FOR INVESTMENT WITHOUT RAISING EYEBROW. FOR YOUR ASSISTANCE I WILL GIVE YOU 20% OF THE TOTAL SUM AS YOUR OWN SHARE WHEN THE MONEY GETS TO YOUR ACCOUNT, WHILE 75% WILL BE FOR ME, OF WHICH WITH YOUR KIND ADVICE I HOPE TO INVEST IN PROFITABLE VENTURE IN YOUR COUNTRY IN OTHER TO SETTLE DOWN FOR MEANINGFUL LIFE, AS I AM TIRED OF LIVING IN A WAR ENVIRONMENT. \n",
    "\n",
    "    THE REMAINING 5% WILL BE USED TO OFFSET ANY COST INCURRED IN THE CAUSE OF MOVING THE MONEY TO YOUR ACCOUNT. IF THE PROPOSAL IS ACCEPTABLE TO YOU PLEASE CONTACT ME IMMEDIATELY THROUGH THE ABOVE TELEPHONE AND E-MAIL, TO ENABLE ME ARRANGE FACE TO FACE MEETING WITH YOU IN GHANA FOR THE CLEARANCE OF THE FUNDS BEFORE TRANSFRING IT TO YOUR BANK ACCOUNT AS SEEING IS BELIEVING. \n",
    "\n",
    "    FINALLY, IT IS IMPORTANT ALSO THAT I LET YOU UNDERSTAND THAT THERE IS NO RISK INVOLVED WHATSOEVER AS THE MONEY HAD NO RECORD IN KINSHASA FOR IT WAS MEANT FOR THE PERSONAL USE OF (MR. PRESIDEND ) BEFORE THE NEFARIOUS INCIDENT OCCURRED, AND ALSO I HAVE ALL THE NECESSARY DOCUMENTS AS REGARDS TO THE FUNDS INCLUDING THE (CERTIFICATE OF DEPOSIT), AS I AM THE DEPOSITOR OF THE CONSIGNMENT.\n",
    "\n",
    "\n",
    "    LOOKING FORWARD TO YOUR URGENT RESPONSE.\n",
    "\n",
    "    YOUR SINCERELY,\n",
    "\n",
    "    MR. JAMES NGOLA.\"\"\"\n",
    "\n"
   ]
  },
  {
   "cell_type": "code",
   "execution_count": null,
   "metadata": {},
   "outputs": [],
   "source": [
    "#sacamos la info del remitente. Al utilizar findall buscamos en tood el fichero, encontrandonos que tenemos dos remitentes dentro del mismo fichero.\n",
    "info_remitente = str(re.findall('From:.*', email))\n",
    "info_remitente\n",
    "#Observamos que ambos remitentes tienen condiciones diferentes, desde espacios hasta mayusculas y longitudes distintas. Ambos tienen numeros pero een puntos diferentes del str. "
   ]
  },
  {
   "cell_type": "code",
   "execution_count": null,
   "metadata": {},
   "outputs": [],
   "source": [
    "patron_correo_ben = '\\w+\\d+\\w+@\\w+\\.com'"
   ]
  },
  {
   "cell_type": "code",
   "execution_count": null,
   "metadata": {},
   "outputs": [],
   "source": [
    "#1 limpio. correo solos\n",
    "#Ahora queremos buscar el patron ddel correo electronico par así quedarnos solo con el correo del from\n",
    "#patron_correo = '<.*>'\n",
    "patron_correo_info_remitente = '\\w+\\d+\\w+@\\w+\\.com'\n",
    "patron_prueba1 = str(re.findall(patron_correo_info_remitente, info_remitente))\n",
    "patron_prueba1  "
   ]
  },
  {
   "cell_type": "code",
   "execution_count": null,
   "metadata": {},
   "outputs": [],
   "source": [
    "re.search(patron_correo_ben, info_remitente)"
   ]
  },
  {
   "cell_type": "markdown",
   "metadata": {},
   "source": [
    "['From: \"Mr. Ben Suleman\" <bensul2004nng@spinfinder.com>',\n",
    "\n",
    " 'From: \"MR. JAMES NGOLA.\" <james_ngola2002@maktoob.com>']"
   ]
  },
  {
   "cell_type": "markdown",
   "metadata": {},
   "source": [
    "2. Extraer el nombre de la persona que envió el email (os deberían salir 2).\n",
    "\n",
    "💡 Pista 💡 Tendremos que hacer dos busquedas:\n",
    "\n",
    "Podemos usar el resultado de la primera búsqueda del ejercicio anterior para sacar el nombre.\n",
    "Otra para extraer el nombre únicamente.\n"
   ]
  },
  {
   "cell_type": "code",
   "execution_count": null,
   "metadata": {},
   "outputs": [],
   "source": [
    "#2limpio \n",
    "info_remitente = str(re.findall('From:.*', email))\n",
    "info_remitente\n",
    "nombre_remitente = \"[B|J]\\w+\\s[S|N]\\w+\"\n",
    "info_nombre_remitente = re.findall(nombre_remitente, info_remitente)\n",
    "info_nombre_remitente"
   ]
  },
  {
   "cell_type": "markdown",
   "metadata": {},
   "source": [
    "3. El día en el que se mandó el email (os deberían salir 2).\n",
    "\n",
    "💡 Pista 💡 De la misma forma que antes buscamos por From: primero, ahora lo tendremos que hacer con Date: .*"
   ]
  },
  {
   "cell_type": "code",
   "execution_count": null,
   "metadata": {},
   "outputs": [],
   "source": [
    "#fecha sacada, pendiete sacar diass\n",
    "fecha_email_remitente = str(re.findall('Date:.*', email))\n",
    "fecha_email_remitente\n"
   ]
  },
  {
   "cell_type": "markdown",
   "metadata": {},
   "source": [
    "Thu Oct 31 08:11:39 2002\n",
    "\n",
    "Wed Oct 30 21:41:56 2002\n",
    "\n"
   ]
  },
  {
   "cell_type": "code",
   "execution_count": null,
   "metadata": {},
   "outputs": [],
   "source": [
    "dia_email = '[T]\\w+,\\s\\d+'\n",
    "info_dia_email = re.findall(dia_email, fecha_email_remitente)\n",
    "info_dia_email"
   ]
  },
  {
   "cell_type": "markdown",
   "metadata": {},
   "source": [
    "4 . El asunto del email (os deberían salir 2).\n",
    "\n",
    "💡 Pista 💡 Busca primero \"Subject:.* y después busca el patrón para extraer el asunto."
   ]
  },
  {
   "cell_type": "code",
   "execution_count": null,
   "metadata": {},
   "outputs": [],
   "source": [
    "#ASUNTO EMAIL\n",
    "asunto_email = str(re.findall('Subject:.*', email))\n",
    "asunto_email\n"
   ]
  },
  {
   "cell_type": "code",
   "execution_count": null,
   "metadata": {},
   "outputs": [],
   "source": [
    "patron_asunto = 'U\\w+\\s\\w+\\s\\D\\w+\\s\\D\\w+\\D\\w*'\n",
    "asunto_1 = str(re.findall(patron_asunto_1, asunto_email))\n",
    "asunto_1"
   ]
  },
  {
   "cell_type": "markdown",
   "metadata": {},
   "source": [
    "5. Guarda todos los resultados en un diccionario + BONUS\n"
   ]
  },
  {
   "cell_type": "markdown",
   "metadata": {},
   "source": []
  },
  {
   "cell_type": "code",
   "execution_count": 41,
   "metadata": {},
   "outputs": [
    {
     "data": {
      "text/plain": [
       "{'email': \"['bensul2004nng@spinfinder.com', 'james_ngola2002@maktoob.com']\",\n",
       " 'nombre': ['Ben Suleman', 'JAMES NGOLA'],\n",
       " 'fechas': ['Thu, 31', 'Thu, 31'],\n",
       " 'asunto': \"['URGENT ASSISTANCE /RELATIONSHIP (P)', 'URGENT BUSINESS ASSISTANCE AND PARTNERSHIP']\"}"
      ]
     },
     "execution_count": 41,
     "metadata": {},
     "output_type": "execute_result"
    }
   ],
   "source": [
    "def guardado_de_datos(email):\n",
    "    datos={'email':patron_prueba1,\n",
    "           'nombre':info_nombre_remitente,\n",
    "           'fechas':info_dia_email,\n",
    "           'asunto':asunto_1 }\n",
    "    return datos\n",
    "\n",
    "guardado_de_datos(email)"
   ]
  },
  {
   "cell_type": "markdown",
   "metadata": {},
   "source": [
    "💪🏽 BONUS 💪🏽\n",
    "\n",
    "Utiliza funciones para cada una de los objetivos planteados."
   ]
  }
 ],
 "metadata": {
  "kernelspec": {
   "display_name": "Python 3.9.7 ('base')",
   "language": "python",
   "name": "python3"
  },
  "language_info": {
   "codemirror_mode": {
    "name": "ipython",
    "version": 3
   },
   "file_extension": ".py",
   "mimetype": "text/x-python",
   "name": "python",
   "nbconvert_exporter": "python",
   "pygments_lexer": "ipython3",
   "version": "3.9.7"
  },
  "orig_nbformat": 4,
  "vscode": {
   "interpreter": {
    "hash": "ebacf0c690606339d2819fda86ce84d5dc8f19bdafd30d1cf039ac39003e3ee9"
   }
  }
 },
 "nbformat": 4,
 "nbformat_minor": 2
}
