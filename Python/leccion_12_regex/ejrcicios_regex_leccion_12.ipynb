{
 "cells": [
  {
   "cell_type": "markdown",
   "metadata": {},
   "source": [
    "1. Extraer el email de la persona que envió el email (os deberían salir 2).\n",
    "\n",
    "💡 Pista 💡 Tendremos que hacer dos busquedas:\n",
    "\n",
    "Una para extraer toda la información del remitente. El remitente siempre empieza por From:\n",
    "\n",
    "``info_remitente = re.findall('From:.*',email)``\n",
    "\n",
    "Otra para extraer el email únicamente.\n"
   ]
  },
  {
   "cell_type": "code",
   "execution_count": null,
   "metadata": {},
   "outputs": [],
   "source": []
  },
  {
   "cell_type": "code",
   "execution_count": null,
   "metadata": {},
   "outputs": [],
   "source": []
  },
  {
   "cell_type": "markdown",
   "metadata": {},
   "source": [
    "2. Extraer el nombre de la persona que envió el email (os deberían salir 2).\n",
    "\n",
    "💡 Pista 💡 Tendremos que hacer dos busquedas:\n",
    "\n",
    "Podemos usar el resultado de la primera búsqueda del ejercicio anterior para sacar el nombre.\n",
    "Otra para extraer el nombre únicamente."
   ]
  },
  {
   "cell_type": "code",
   "execution_count": null,
   "metadata": {},
   "outputs": [],
   "source": []
  },
  {
   "cell_type": "markdown",
   "metadata": {},
   "source": [
    "3. El día en el que se mandó el email (os deberían salir 2).\n",
    "\n",
    "💡 Pista 💡 De la misma forma que antes buscamos por From: primero, ahora lo tendremos que hacer con Date: .*"
   ]
  },
  {
   "cell_type": "code",
   "execution_count": null,
   "metadata": {},
   "outputs": [],
   "source": []
  },
  {
   "cell_type": "markdown",
   "metadata": {},
   "source": [
    "4 . El asunto del email (os deberían salir 2).\n",
    "\n",
    "💡 Pista 💡 Busca primero \"Subject:.* y después busca el patrón para extraer el asunto."
   ]
  },
  {
   "cell_type": "code",
   "execution_count": null,
   "metadata": {},
   "outputs": [],
   "source": []
  },
  {
   "cell_type": "markdown",
   "metadata": {},
   "source": [
    "💪🏽 BONUS 💪🏽\n",
    "\n",
    "Utiliza funciones para cada una de los objetivos planteados."
   ]
  }
 ],
 "metadata": {
  "kernelspec": {
   "display_name": "Python 3.9.7 ('base')",
   "language": "python",
   "name": "python3"
  },
  "language_info": {
   "name": "python",
   "version": "3.9.7"
  },
  "orig_nbformat": 4,
  "vscode": {
   "interpreter": {
    "hash": "ebacf0c690606339d2819fda86ce84d5dc8f19bdafd30d1cf039ac39003e3ee9"
   }
  }
 },
 "nbformat": 4,
 "nbformat_minor": 2
}
