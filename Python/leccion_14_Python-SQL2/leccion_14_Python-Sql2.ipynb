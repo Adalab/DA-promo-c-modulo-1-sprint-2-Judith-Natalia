{
 "cells": [
  {
   "cell_type": "markdown",
   "metadata": {},
   "source": [
    "Durante la clase de pair programming de ayer nos creamos nuestra primerita BBDD desde cero en Workbench. En el ejercicio de hoy volveremos a crear esa misma BBDD, pero esta vez desde Python.\n",
    "\n",
    "📌 NOTA Cambiad el nombre de la BBDD a mi_primerita_BBDD_Python\n",
    "📌 NOTA Cuando creeis las distintas tablas de vuestra BBDD repetereis la mismas lineas de código una y otra vez. Para evitar esto, crearos una función que nos sirva para crear tablas independientemente del contenido de la tabla. La función recibirá como parámetros:\n",
    "\n",
    "Contraseña de la conexión al servidor.\n",
    "\n",
    "Query para crear la tabla.\n",
    "\n",
    "\n",
    "A modo de recap de lo que contenía la BBDD:\n",
    "\n",
    "Tabla Zapatillas: tiene 4 columnas: id, modelo, color, talla con las siguientes características:\n",
    "\n",
    "\n",
    "idZapatillas: es una clave primaria de tipo int, autoincremental y no nula.\n",
    "\n",
    "Modelo: es una cadena de caracteres de longitud máxima de 45 caracteres, no nula.\n",
    "\n",
    "Color: es una cadena de caracteres de longitud máxima de 45 caracteres, no nula.\n",
    "\n",
    "Talla: es entero, no nula.\n",
    "\n",
    "Tabla Clientes: tiene 9 columnas idcliente, nombre, numero_telefono, email, direccion, ciudad, provincia, pais, codigo_postal con las siguientes características:\n",
    "\n",
    "\n",
    "idEmpleado: es una clave primaria de tipo int, autoincremental y no nula.\n",
    "\n",
    "Nombre: es una cadena de caracteres de longitud máxima de 45 caracteres, no nula.\n",
    "\n",
    "Numero_telefono: es un entero de longitud máxima de 9 caracteres, no nula.\n",
    "\n",
    "Email: es una cadena de caracteres de longitud máxima de 45 caracteres, no nula.\n",
    "\n",
    "Direccion: es una cadena de caracteres de longitud máxima de 45 caracteres, no nula.\n",
    "\n",
    "Ciudad: es una cadena de caracteres de longitud máxima de 45 caracteres, puede ser nula.\n",
    "\n",
    "Provincia: es una cadena de caracteres de longitud máxima de 45 caracteres, no nula.\n",
    "\n",
    "Pais: es una cadena de caracteres de longitud máxima de 45 caracteres, no nula.\n",
    "\n",
    "Codigo_postal: entero de máxima longitud 9, no nula.\n",
    "\n",
    "Tabla Empleados: tiene 5 columnas idEmpleado, nombre, tienda, salario, fecha_incorporacion con las siguientes características:\n",
    "\n",
    "\n",
    "idEmpleado: es una clave primaria de tipo int, autoincremental y no nula.\n",
    "\n",
    "Nombre: es una cadena de caracteres de longitud máxima de 45 caracteres, no nula.\n",
    "\n",
    "Tienda: es una cadena de caracteres de longitud máxima de 45 caracteres, no nula.\n",
    "\n",
    "salario: es decimal, puede ser nula.\n",
    "\n",
    "fecha_incorporacion: es una columna de tipo date, no nula.\n",
    "\n",
    "Tabla Facturas: tiene 5 columnas idFactura, idEmpleado, idCliente, fecha, total con las siguientes características:\n",
    "\n",
    "\n",
    "idFactura: es una clave primaria de tipo int, autoincremental y no nula.\n",
    "\n",
    "idEmpleado: es una clave foránea de tipo int, no nula.\n",
    "\n",
    "idCliente: es una clave foránea de tipo int, no nula.\n",
    "\n",
    "idZapatilla: es una clave foránea de tipo int, no nula\n",
    "\n",
    "Fecha: es una columna de tipo date, no nula.\n",
    "\n",
    "Total: es decimal, no nula.\n",
    "\n",
    "\n",
    "📌 NOTA En esta última tabla tendremos que incluir todos los CONSTRAINTnecesarios para establecer los relaciones entre las tablas, donde tendremos que especificar:\n",
    "\n",
    "Foreign Key\n",
    "\n",
    "References"
   ]
  },
  {
   "cell_type": "code",
   "execution_count": null,
   "metadata": {},
   "outputs": [],
   "source": [
    "#Importamos el conector EN WINDOWS \n",
    "import mysql.connector\n"
   ]
  },
  {
   "cell_type": "code",
   "execution_count": 100,
   "metadata": {},
   "outputs": [
    {
     "name": "stdout",
     "output_type": "stream",
     "text": [
      "CMySQLCursor: CREATE DATABASE mi_primerita_BBDD_Python..\n"
     ]
    }
   ],
   "source": [
    "# Creamos nuestra BBDD mi_primerita_BBDD_Python\n",
    "\n",
    "cnx = mysql.connector.connect(user='root', password='alumnaadalab',\n",
    "                              host='127.0.0.1')\n",
    "\n",
    "\n",
    "mycursor = cnx.cursor()\n",
    "try:\n",
    "    mycursor.execute (\"\"\"CREATE DATABASE mi_primerita_BBDD_Python \"\"\")\n",
    "    print(mycursor)\n",
    "except mysql.connector.Error as err:\n",
    "    print(err)\n",
    "    print(\"Error Code:\", err.errno)\n",
    "    print(\"SQLSTATE\", err.sqlstate)\n",
    "    print(\"Message\", err.msg)\n"
   ]
  },
  {
   "cell_type": "code",
   "execution_count": 95,
   "metadata": {},
   "outputs": [],
   "source": [
    "#Creacion de funcion universal para añadir tablas a mi BBDD\n",
    "\n",
    "def creacion_tablas (password, query):\n",
    "    \n",
    "    cnx = mysql.connector.connect(user='root', password= password,\n",
    "                              host='127.0.0.1', database='mi_primerita_BBDD_Python')\n",
    "    mycursor = cnx.cursor()\n",
    "    try:\n",
    "        mycursor.execute(query)\n",
    "        print(mycursor)\n",
    "        print(\"Tu tabla se ha creado con éxito\")\n",
    "    except mysql.connector.Error as err:\n",
    "        print(err)\n",
    "        print(\"Error Code:\", err.errno)\n",
    "        print(\"SQLSTATE\", err.sqlstate)\n",
    "        print(\"Message\", err.msg)\n",
    "    \n",
    "    "
   ]
  },
  {
   "cell_type": "code",
   "execution_count": 105,
   "metadata": {},
   "outputs": [],
   "source": [
    "#Creamos las Queries que queremos pasar a nuestra función, en este caso son nuestras tablas con sus columnas y sus respectivos atributos. \n",
    "\n",
    "cnx = mysql.connector.connect(user='root', password='alumnaadalab',\n",
    "                              host='127.0.0.1', database='mi_primerita_BBDD_Python')\n",
    "\n",
    "mycursor = cnx.cursor()\n",
    "try:\n",
    "    query_zapatillas =              (\"\"\"CREATE TABLE Zapatillas \n",
    "                                     (id_zapatilla INT AUTO_INCREMENT, \n",
    "                                     modelo VARCHAR(45) NOT NULL , \n",
    "                                     color VARCHAR(45) NOT NULL, \n",
    "                                     talla INT NOT NULL,\n",
    "                                     PRIMARY KEY (id_zapatilla))\"\"\")   \n",
    "    query_clientes =                (\"\"\"CREATE TABLE Clientes\n",
    "                                     (id_cliente INT AUTO_INCREMENT,\n",
    "                                     Nombre VARCHAR(45) NOT NULL, \n",
    "                                     Numero_telefono INT(9) NOT NULL,\n",
    "                                     Email VARCHAR (45) NOT NULL,\n",
    "                                     Direccion VARCHAR (45) NOT NULL,\n",
    "                                     Ciudad VARCHAR (45) NOT NULL, \n",
    "                                     Pais VARCHAR (45) NOT NULL, \n",
    "                                     Codigo_postal INT (9) NOT NULL, \n",
    "                                     PRIMARY KEY (id_cliente))\"\"\")    \n",
    "    query_empleados =               (\"\"\"CREATE TABLE Empleados\n",
    "                                     (id_empleado INT AUTO_INCREMENT NOT NULL, \n",
    "                                     Nombre VARCHAR(45) NOT NULL, \n",
    "                                     Tienda VARCHAR (45) NOT NULL, \n",
    "                                     SALARIO FLOAT NOT NULL, \n",
    "                                     Fecha_incorporacion DATE NOT NULL, \n",
    "                                     PRIMARY KEY (id_empleado))\"\"\")\n",
    "    query_facturas =                 (\"\"\"CREATE TABLE Facturas\n",
    "                                    (id_factura INT AUTO_INCREMENT NOT NULL PRIMARY KEY, \n",
    "                                     id_empleado INT NOT NULL, \n",
    "                                     id_cliente INT NOT NULL,\n",
    "                                     id_zapatilla INT NOT NULL,\n",
    "                                    CONSTRAINT fk_facturas_zapatillas\n",
    "                                        FOREIGN KEY (id_zapatilla)\n",
    "                                        REFERENCES zapatillas (id_zapatilla),\n",
    "                                    CONSTRAINT fk_facturas_clienteS\n",
    "                                        FOREIGN KEY (id_cliente)\n",
    "                                        REFERENCES clientes (id_cliente),\n",
    "                                    CONSTRAINT fk_facturas_empleados\n",
    "                                        FOREIGN KEY (id_empleado)\n",
    "                                        REFERENCES empleados (id_empleado)) \"\"\")\n",
    "\n",
    "except mysql.connector.Error as err:\n",
    "    print(err)\n",
    "    print(\"Error Code:\", err.errno)\n",
    "    print(\"SQLSTATE\", err.sqlstate)\n",
    "    print(\"Message\", err.msg)\n"
   ]
  },
  {
   "cell_type": "markdown",
   "metadata": {},
   "source": [
    "AHORA LLAMAMOS A NUESTRA FUNCION CON CADA UNA DE LAS QUERIES DE MANERA INDEPENDIENTE PARA VERIFICAR QUE CADA TABLA SE HA CREADO CON ÉXITO "
   ]
  },
  {
   "cell_type": "code",
   "execution_count": 101,
   "metadata": {},
   "outputs": [
    {
     "name": "stdout",
     "output_type": "stream",
     "text": [
      "CMySQLCursor: CREATE TABLE Zapatillas \n",
      "               ..\n",
      "Tu tabla se ha creado con éxito\n"
     ]
    }
   ],
   "source": [
    "creacion_tablas('alumnaadalab', query_zapatillas)"
   ]
  },
  {
   "cell_type": "code",
   "execution_count": 102,
   "metadata": {},
   "outputs": [
    {
     "name": "stdout",
     "output_type": "stream",
     "text": [
      "CMySQLCursor: CREATE TABLE Clientes\n",
      "                  ..\n",
      "Tu tabla se ha creado con éxito\n"
     ]
    }
   ],
   "source": [
    "creacion_tablas('alumnaadalab', query_clientes)"
   ]
  },
  {
   "cell_type": "code",
   "execution_count": 103,
   "metadata": {},
   "outputs": [
    {
     "name": "stdout",
     "output_type": "stream",
     "text": [
      "CMySQLCursor: CREATE TABLE Empleados\n",
      "                 ..\n",
      "Tu tabla se ha creado con éxito\n"
     ]
    }
   ],
   "source": [
    "creacion_tablas('alumnaadalab', query_empleados)"
   ]
  },
  {
   "cell_type": "code",
   "execution_count": 106,
   "metadata": {},
   "outputs": [
    {
     "name": "stdout",
     "output_type": "stream",
     "text": [
      "CMySQLCursor: CREATE TABLE Facturas\n",
      "                  ..\n",
      "Tu tabla se ha creado con éxito\n"
     ]
    }
   ],
   "source": [
    "creacion_tablas('alumnaadalab', query_facturas)"
   ]
  }
 ],
 "metadata": {
  "kernelspec": {
   "display_name": "Python 3.10.6 64-bit",
   "language": "python",
   "name": "python3"
  },
  "language_info": {
   "codemirror_mode": {
    "name": "ipython",
    "version": 3
   },
   "file_extension": ".py",
   "mimetype": "text/x-python",
   "name": "python",
   "nbconvert_exporter": "python",
   "pygments_lexer": "ipython3",
   "version": "3.10.6"
  },
  "orig_nbformat": 4,
  "vscode": {
   "interpreter": {
    "hash": "369f2c481f4da34e4445cda3fffd2e751bd1c4d706f27375911949ba6bb62e1c"
   }
  }
 },
 "nbformat": 4,
 "nbformat_minor": 2
}
