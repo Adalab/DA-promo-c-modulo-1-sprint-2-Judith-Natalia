{
 "cells": [
  {
   "cell_type": "markdown",
   "metadata": {},
   "source": [
    "1. Cread una funcion que reciba 2 números enteros en forma de string como entrada, y dé como resultado la suma (también en forma de string)\n",
    "\n",
    "Condiciones:\n",
    "\n",
    "Si los dos parámetros que recibe la función son strings vacíos la función nos debe devolver \"0\"\n",
    "\n",
    "Si el primer parámetro es un string vacío, la función nos devuelve el valor del segundo parámetro y viceversa.\n",
    "\n",
    "Probad la función para las siguientes combinaciones de \"números\"\n",
    "\n",
    "\"4\",  \"5\" --> \"9\"\n",
    "\n",
    "\"34\", \"5\" --> \"39\"\n",
    "\n",
    "\"\", \"\" --> \"0\"\n",
    "\n",
    "\"2\", \"\" --> \"2\"\n",
    "\n",
    "\"-5\", \"3\" --> \"-2\""
   ]
  },
  {
   "cell_type": "code",
   "execution_count": null,
   "metadata": {},
   "outputs": [],
   "source": [
    "def sumar_str(num1, num2):\n",
    "  if num1 == \"\":\n",
    "    if num2 == \"\":\n",
    "      resultado = \"0\"\n",
    "    elif num2 != \"\":\n",
    "      resultado = num2\n",
    "  elif num2 == \"\":\n",
    "    resultado = num1\n",
    "  else:\n",
    "    resultado = str(int(num1) +int(num2))\n",
    "  return f\"{num1}, {num2} --> {resultado}\""
   ]
  },
  {
   "cell_type": "code",
   "execution_count": null,
   "metadata": {},
   "outputs": [],
   "source": [
    "sumar_str('4','5')"
   ]
  },
  {
   "cell_type": "code",
   "execution_count": null,
   "metadata": {},
   "outputs": [],
   "source": [
    "sumar_str('34','5')"
   ]
  },
  {
   "cell_type": "code",
   "execution_count": null,
   "metadata": {},
   "outputs": [],
   "source": [
    "sumar_str('','')"
   ]
  },
  {
   "cell_type": "code",
   "execution_count": null,
   "metadata": {},
   "outputs": [],
   "source": [
    "sumar_str('2','')"
   ]
  },
  {
   "cell_type": "code",
   "execution_count": null,
   "metadata": {},
   "outputs": [],
   "source": [
    "sumar_str('-5','3')"
   ]
  },
  {
   "cell_type": "markdown",
   "metadata": {},
   "source": [
    "2. El objetivo es comparar cada par de enteros de 2 listas, y devolver una nueva lista con el número mayor de la comapración..\n",
    "\n",
    "Probad la función para las siguientes listas: \n",
    "\n",
    "arr1 = [13, 64, 15, 17, 88]\n",
    "\n",
    "arr2 = [23, 14, 53, 17, 80]\n",
    "\n",
    "resultado = [23, 64, 53, 17, 88]\n",
    "\n",
    "💡 Pista 💡 En Python existe el método zip."
   ]
  },
  {
   "cell_type": "code",
   "execution_count": null,
   "metadata": {},
   "outputs": [],
   "source": [
    "arr1 = [13, 64, 15, 17, 88]\n",
    "arr2 = [23, 14, 53, 17, 80]\n",
    "lista_tupla = list(zip(arr1, arr2))\n",
    "lista_tupla\n",
    "\n",
    "def comparar_lista_numero_mayor ():\n",
    "    resultado = []\n",
    "    lista_tupla = list(zip(arr1, arr2))\n",
    "    for i in lista_tupla:\n",
    "        if i[0] >=  i[1]:\n",
    "            resultado.append(i[0])\n",
    "        elif i[0] <= i [1]:\n",
    "           resultado.append(i[1])\n",
    "           pass\n",
    "    return resultado\n",
    "\n",
    "comparar_lista_numero_mayor()"
   ]
  },
  {
   "cell_type": "markdown",
   "metadata": {},
   "source": [
    "3. El objetivo de este ejercicio es convertir un string en un nuevo string en el que cada carácter del nuevo string es \"(\" si ese carácter aparece sólo una vez en el string original, o \")\" si ese carácter aparece más de una vez en el string.\n",
    "\n",
    "Nuestro código no tiene que ser case sensitive, es decir, si hay una letra en mayúscula y en minúscula cuenta como dos apariciones.\n",
    "\n",
    "Probad la función para los siguientes strings \n",
    "\n",
    "\"din\"      =>  \"(((\"\n",
    "\n",
    "\"recede\"   =>  \"()()()\"\n",
    "\n",
    "\"Success\"  =>  \")())())\"\n",
    "\n",
    "\"(( @\"     =>  \"))((\" \n",
    "\n",
    "\"Ocvl@GamFLAFkixkS\" => \"((()(()()))))(()(\""
   ]
  },
  {
   "cell_type": "code",
   "execution_count": null,
   "metadata": {},
   "outputs": [],
   "source": [
    "#las letras repetidas, si aparece mas de una vez tienen que ir en parentesis cerrado y de lo contrario irian en parentesis abierto\n",
    "\n",
    "\n",
    "def conv_str (palabra):\n",
    "    palabra = palabra.lower()\n",
    "    for letra in palabra: \n",
    "        if palabra.count(letra) ==1:\n",
    "            palabra = palabra.replace(letra, '(')\n",
    "        else:\n",
    "             palabra = palabra.replace(letra, ')')\n",
    "    return palabra \n"
   ]
  },
  {
   "cell_type": "code",
   "execution_count": null,
   "metadata": {},
   "outputs": [],
   "source": [
    "conv_str('din')"
   ]
  },
  {
   "cell_type": "code",
   "execution_count": null,
   "metadata": {},
   "outputs": [],
   "source": [
    "conv_str('recede')"
   ]
  },
  {
   "cell_type": "code",
   "execution_count": null,
   "metadata": {},
   "outputs": [],
   "source": [
    "conv_str('success')"
   ]
  },
  {
   "cell_type": "code",
   "execution_count": null,
   "metadata": {},
   "outputs": [],
   "source": [
    "conv_str(\"(( @\")"
   ]
  },
  {
   "cell_type": "code",
   "execution_count": null,
   "metadata": {},
   "outputs": [],
   "source": [
    "conv_str(\"Ocvl@GamFLAFkixkS\")"
   ]
  },
  {
   "cell_type": "markdown",
   "metadata": {},
   "source": [
    "## BONNUS ##\n",
    "\n",
    "4. A Pete le gusta hacer pasteles. Tiene algunas recetas e ingredientes. \n",
    "Desgraciadamente, no se le dan bien las matemáticas.\n",
    " ¿Puedes ayudarle a averiguar cuántas tartas puede hacer teniendo en cuenta sus recetas?\n",
    " \n",
    "Escribid una función,  que tome la receta (diccionario) y los ingredientes disponibles (también un diccionario) y devuelva el número máximo de pasteles que Pete puede hornear (entero). Para simplificar, no hay unidades para las cantidades (por ejemplo, 1 libra de harina o 200 g de azúcar son simplemente 1 o 200). Los ingredientes que no están presentes en los diccionarios, pueden ser considerados como 0.\n",
    "\n",
    "```\n",
    "Probad con los siguientes diccionarios: \n",
    "\n",
    "RECETA {'flour': 500, 'sugar': 200, 'eggs': 1}, \n",
    "INGREDIENTES {'flour': 1200, 'sugar': 1200, 'eggs': 5, 'milk': 200}\n",
    "\n",
    "RESULTADO: 2 \n",
    "----------\n",
    "\n",
    "RECETA {'apples': 3, 'flour': 300, 'sugar': 150, 'milk': 100, 'oil': 100}\n",
    "INGREDIENTES {'sugar': 500, 'flour': 2000, 'milk': 2000}\n",
    "\n",
    "RESULTADO 0\n",
    "``` \n",
    "**Pista**: Nuestra función recibirá dos parámetros. "
   ]
  },
  {
   "cell_type": "code",
   "execution_count": null,
   "metadata": {},
   "outputs": [],
   "source": [
    "receta1 = {'flour': 500, 'sugar': 200, 'eggs': 1}\n",
    "ingredientes1 = {'flour': 1200, 'sugar': 1200, 'eggs': 5, 'milk': 200}"
   ]
  },
  {
   "cell_type": "code",
   "execution_count": null,
   "metadata": {},
   "outputs": [],
   "source": [
    "receta2 = {'apples': 3, 'flour': 300, 'sugar': 150, 'milk': 100, 'oil': 100}\n",
    "ingredientes2 = {'sugar': 500, 'flour': 2000, 'milk': 2000}"
   ]
  },
  {
   "cell_type": "code",
   "execution_count": null,
   "metadata": {},
   "outputs": [],
   "source": [
    "def receta_ (receta,ingredientes):\n",
    "    cantidades =[]\n",
    "    for k,v in receta.items():\n",
    "        if k in ingredientes:\n",
    "            cantidad= ingredientes[k]/receta[k]\n",
    "            cantidades.append(cantidad)\n",
    "        else:\n",
    "            cantidades.append(0)\n",
    "    \n",
    "    return int(min(cantidades)) #hago integer al minimo de la lista cantidades una vez imprimo y obtengo todos los numeros donde identifico el menor, que es el que me indica cuantos pasteles puedo hacer. \n"
   ]
  },
  {
   "cell_type": "code",
   "execution_count": null,
   "metadata": {},
   "outputs": [],
   "source": [
    "receta_ (receta1, ingredientes1)"
   ]
  },
  {
   "cell_type": "code",
   "execution_count": null,
   "metadata": {},
   "outputs": [],
   "source": [
    "receta_ (receta2, ingredientes2)"
   ]
  },
  {
   "cell_type": "markdown",
   "metadata": {},
   "source": [
    "##BONUS##\n",
    "\n",
    "5.Escribid una función que va a ser una calculadora. La lista recibirá dos parámetros, una lista de números y un string con la operación que queremos hacer (puede ser \"*\", \"+\")\n",
    "``` \n",
    "Probad con los siguientes inputs\n",
    "\n",
    "lista1 = [11, 6, 98, 1, 2] , \"*\"\n",
    "RESULTADO 12936\n",
    "\n",
    "-----------------------------------\n",
    "lista2 = [23,34, 56, 11, 90] , \"+\"\n",
    "RESULTADO 214\n",
    "\n",
    "-----------------------------------\n",
    "lista2 = [23,34, 56, 11, 90] , \"-\"\n",
    "RESULTADO 'Lo siento, necesito que me pases una operación "
   ]
  },
  {
   "cell_type": "code",
   "execution_count": 2,
   "metadata": {},
   "outputs": [],
   "source": [
    "def calculadora (list,operador):\n",
    "    for i in range(0,len(list)):\n",
    "        if i==0:\n",
    "            resultado = list[i]\n",
    "        else:\n",
    "            if operador == '*':\n",
    "                resultado = resultado * list[i]\n",
    "            elif operador == '+':\n",
    "                resultado = resultado + list[i]\n",
    "            else:\n",
    "                resultado = 'Lo siento necesito que me pases una operacion'\n",
    "    return resultado"
   ]
  },
  {
   "cell_type": "code",
   "execution_count": 3,
   "metadata": {},
   "outputs": [],
   "source": [
    "lista1 = [11, 6, 98, 1, 2]\n",
    "lista2 = [23,34, 56, 11, 90]\n",
    "lista3 = [23,34, 56, 11, 90]"
   ]
  },
  {
   "cell_type": "code",
   "execution_count": 4,
   "metadata": {},
   "outputs": [
    {
     "data": {
      "text/plain": [
       "12936"
      ]
     },
     "execution_count": 4,
     "metadata": {},
     "output_type": "execute_result"
    }
   ],
   "source": [
    "calculadora(lista1, '*')"
   ]
  },
  {
   "cell_type": "code",
   "execution_count": 5,
   "metadata": {},
   "outputs": [
    {
     "data": {
      "text/plain": [
       "214"
      ]
     },
     "execution_count": 5,
     "metadata": {},
     "output_type": "execute_result"
    }
   ],
   "source": [
    "calculadora(lista2,'+')"
   ]
  },
  {
   "cell_type": "code",
   "execution_count": 6,
   "metadata": {},
   "outputs": [
    {
     "data": {
      "text/plain": [
       "'Lo siento necesito que me pases una operacion'"
      ]
     },
     "execution_count": 6,
     "metadata": {},
     "output_type": "execute_result"
    }
   ],
   "source": [
    "calculadora(lista2, '-')"
   ]
  }
 ],
 "metadata": {
  "kernelspec": {
   "display_name": "Python 3.6.9 64-bit",
   "language": "python",
   "name": "python3"
  },
  "language_info": {
   "codemirror_mode": {
    "name": "ipython",
    "version": 3
   },
   "file_extension": ".py",
   "mimetype": "text/x-python",
   "name": "python",
   "nbconvert_exporter": "python",
   "pygments_lexer": "ipython3",
   "version": "3.6.9"
  },
  "orig_nbformat": 4,
  "vscode": {
   "interpreter": {
    "hash": "31f2aee4e71d21fbe5cf8b01ff0e069b9275f58929596ceb00d14d90e3e16cd6"
   }
  }
 },
 "nbformat": 4,
 "nbformat_minor": 2
}
